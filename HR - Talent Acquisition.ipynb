{
 "cells": [
  {
   "cell_type": "markdown",
   "metadata": {},
   "source": [
    "**HRWorks supports several information technology (IT) companies in India with their talent acquisition. One of the challenges they face is about 30% of the candidates who accept the jobs offer do not join the company. This leads to huge loss of revenue and time asthe companies initiate the recruitment process again to fill the workforce demand.**\n",
    "\n",
    "**HRWorks wants to find if a model can be built to predict the likelihood of a candidate joining the company**"
   ]
  },
  {
   "cell_type": "markdown",
   "metadata": {},
   "source": [
    "The Problem Statement for this Case Study is:\n",
    "\n",
    "Based on the Case Study description, 30% of the candidates who accept the job offer do not join the company.\n",
    "When we check the Target column of our data, it is found that about 19% of candidates who accepted the job offer did not join the company.\n",
    "\n",
    "This leads to a huge loss of time and money as HRWorks would get a commission from partner companies only after the successful onboarding of candidates.\n",
    "\n",
    "This may be the reason that many companies require the candidates to fill the legal bond before joining the company so that candidates do not leave the company before the bond period, else, legal actions can be taken.\n",
    "\n",
    "A solution needs to be found to minimize these losses as the losses may increase with the increase in candidates.\n",
    "This can be done by primarily classifying the candidates based on their likelihood of joining using Machine Learning Classification Algorithms.\n",
    "\n",
    "This will help HRWorks to prioritize candidates who are more likely to join the company."
   ]
  },
  {
   "cell_type": "code",
   "execution_count": 90,
   "metadata": {},
   "outputs": [],
   "source": [
    "import pandas as pd\n",
    "import numpy as np\n",
    "import matplotlib.pyplot as plt\n",
    "import seaborn as sns\n",
    "import warnings\n",
    "import os\n",
    "os.chdir(r'C:\\Users\\Yogesh\\Downloads\\Dataset')\n",
    "pd.set_option('display.max_columns', None)\n",
    "warnings.filterwarnings('ignore')\n",
    "from sklearn.linear_model import LogisticRegression\n",
    "from sklearn.model_selection import train_test_split\n",
    "import statsmodels.api as sm\n",
    "from sklearn import metrics\n",
    "from sklearn.tree import DecisionTreeClassifier\n",
    "from sklearn.model_selection import GridSearchCV\n",
    "from sklearn.preprocessing import StandardScaler\n",
    "from imblearn.over_sampling import SMOTE\n",
    "from sklearn.preprocessing import LabelEncoder"
   ]
  },
  {
   "cell_type": "code",
   "execution_count": 2,
   "metadata": {},
   "outputs": [],
   "source": [
    "#reading data\n",
    "df= pd.read_csv(\"hr_Talent.csv\")"
   ]
  },
  {
   "cell_type": "code",
   "execution_count": 3,
   "metadata": {},
   "outputs": [
    {
     "data": {
      "text/html": [
       "<div>\n",
       "<style scoped>\n",
       "    .dataframe tbody tr th:only-of-type {\n",
       "        vertical-align: middle;\n",
       "    }\n",
       "\n",
       "    .dataframe tbody tr th {\n",
       "        vertical-align: top;\n",
       "    }\n",
       "\n",
       "    .dataframe thead th {\n",
       "        text-align: right;\n",
       "    }\n",
       "</style>\n",
       "<table border=\"1\" class=\"dataframe\">\n",
       "  <thead>\n",
       "    <tr style=\"text-align: right;\">\n",
       "      <th></th>\n",
       "      <th>SLNO</th>\n",
       "      <th>Candidate Ref</th>\n",
       "      <th>DOJ Extended</th>\n",
       "      <th>Duration to accept offer</th>\n",
       "      <th>Notice period</th>\n",
       "      <th>Offered band</th>\n",
       "      <th>Pecent hike expected in CTC</th>\n",
       "      <th>Percent hike offered in CTC</th>\n",
       "      <th>Percent difference CTC</th>\n",
       "      <th>Joining Bonus</th>\n",
       "      <th>Candidate relocate actual</th>\n",
       "      <th>Gender</th>\n",
       "      <th>Candidate Source</th>\n",
       "      <th>Rex in Yrs</th>\n",
       "      <th>LOB</th>\n",
       "      <th>Location</th>\n",
       "      <th>Age</th>\n",
       "      <th>Status</th>\n",
       "    </tr>\n",
       "  </thead>\n",
       "  <tbody>\n",
       "    <tr>\n",
       "      <th>0</th>\n",
       "      <td>1</td>\n",
       "      <td>2110407</td>\n",
       "      <td>Yes</td>\n",
       "      <td>14</td>\n",
       "      <td>30</td>\n",
       "      <td>E2</td>\n",
       "      <td>-20.79</td>\n",
       "      <td>13.16</td>\n",
       "      <td>42.86</td>\n",
       "      <td>No</td>\n",
       "      <td>No</td>\n",
       "      <td>Female</td>\n",
       "      <td>Agency</td>\n",
       "      <td>7</td>\n",
       "      <td>ERS</td>\n",
       "      <td>Noida</td>\n",
       "      <td>34.0</td>\n",
       "      <td>Joined</td>\n",
       "    </tr>\n",
       "    <tr>\n",
       "      <th>1</th>\n",
       "      <td>2</td>\n",
       "      <td>2112635</td>\n",
       "      <td>No</td>\n",
       "      <td>18</td>\n",
       "      <td>30</td>\n",
       "      <td>E2</td>\n",
       "      <td>50.00</td>\n",
       "      <td>320.00</td>\n",
       "      <td>180.00</td>\n",
       "      <td>No</td>\n",
       "      <td>No</td>\n",
       "      <td>Male</td>\n",
       "      <td>Employee Referral</td>\n",
       "      <td>8</td>\n",
       "      <td>INFRA</td>\n",
       "      <td>Chennai</td>\n",
       "      <td>34.0</td>\n",
       "      <td>Joined</td>\n",
       "    </tr>\n",
       "    <tr>\n",
       "      <th>2</th>\n",
       "      <td>3</td>\n",
       "      <td>2112838</td>\n",
       "      <td>No</td>\n",
       "      <td>3</td>\n",
       "      <td>45</td>\n",
       "      <td>E2</td>\n",
       "      <td>42.84</td>\n",
       "      <td>42.84</td>\n",
       "      <td>0.00</td>\n",
       "      <td>No</td>\n",
       "      <td>No</td>\n",
       "      <td>Male</td>\n",
       "      <td>Agency</td>\n",
       "      <td>4</td>\n",
       "      <td>INFRA</td>\n",
       "      <td>Noida</td>\n",
       "      <td>27.0</td>\n",
       "      <td>Joined</td>\n",
       "    </tr>\n",
       "    <tr>\n",
       "      <th>3</th>\n",
       "      <td>4</td>\n",
       "      <td>2115021</td>\n",
       "      <td>No</td>\n",
       "      <td>26</td>\n",
       "      <td>30</td>\n",
       "      <td>E2</td>\n",
       "      <td>42.84</td>\n",
       "      <td>42.84</td>\n",
       "      <td>0.00</td>\n",
       "      <td>No</td>\n",
       "      <td>No</td>\n",
       "      <td>Male</td>\n",
       "      <td>Employee Referral</td>\n",
       "      <td>4</td>\n",
       "      <td>INFRA</td>\n",
       "      <td>Noida</td>\n",
       "      <td>34.0</td>\n",
       "      <td>Joined</td>\n",
       "    </tr>\n",
       "    <tr>\n",
       "      <th>4</th>\n",
       "      <td>5</td>\n",
       "      <td>2115125</td>\n",
       "      <td>Yes</td>\n",
       "      <td>1</td>\n",
       "      <td>120</td>\n",
       "      <td>E2</td>\n",
       "      <td>42.59</td>\n",
       "      <td>42.59</td>\n",
       "      <td>0.00</td>\n",
       "      <td>No</td>\n",
       "      <td>Yes</td>\n",
       "      <td>Male</td>\n",
       "      <td>Employee Referral</td>\n",
       "      <td>6</td>\n",
       "      <td>INFRA</td>\n",
       "      <td>Noida</td>\n",
       "      <td>34.0</td>\n",
       "      <td>Joined</td>\n",
       "    </tr>\n",
       "  </tbody>\n",
       "</table>\n",
       "</div>"
      ],
      "text/plain": [
       "   SLNO  Candidate Ref DOJ Extended  Duration to accept offer  Notice period  \\\n",
       "0     1        2110407          Yes                        14             30   \n",
       "1     2        2112635           No                        18             30   \n",
       "2     3        2112838           No                         3             45   \n",
       "3     4        2115021           No                        26             30   \n",
       "4     5        2115125          Yes                         1            120   \n",
       "\n",
       "  Offered band  Pecent hike expected in CTC  Percent hike offered in CTC  \\\n",
       "0           E2                       -20.79                        13.16   \n",
       "1           E2                        50.00                       320.00   \n",
       "2           E2                        42.84                        42.84   \n",
       "3           E2                        42.84                        42.84   \n",
       "4           E2                        42.59                        42.59   \n",
       "\n",
       "   Percent difference CTC Joining Bonus Candidate relocate actual  Gender  \\\n",
       "0                   42.86            No                        No  Female   \n",
       "1                  180.00            No                        No    Male   \n",
       "2                    0.00            No                        No    Male   \n",
       "3                    0.00            No                        No    Male   \n",
       "4                    0.00            No                       Yes    Male   \n",
       "\n",
       "    Candidate Source  Rex in Yrs    LOB Location   Age  Status  \n",
       "0             Agency           7    ERS    Noida  34.0  Joined  \n",
       "1  Employee Referral           8  INFRA  Chennai  34.0  Joined  \n",
       "2             Agency           4  INFRA    Noida  27.0  Joined  \n",
       "3  Employee Referral           4  INFRA    Noida  34.0  Joined  \n",
       "4  Employee Referral           6  INFRA    Noida  34.0  Joined  "
      ]
     },
     "execution_count": 3,
     "metadata": {},
     "output_type": "execute_result"
    }
   ],
   "source": [
    "#head of data\n",
    "df.head()"
   ]
  },
  {
   "cell_type": "markdown",
   "metadata": {},
   "source": [
    "**EDA**"
   ]
  },
  {
   "cell_type": "code",
   "execution_count": 4,
   "metadata": {},
   "outputs": [
    {
     "data": {
      "text/plain": [
       "SLNO                             int64\n",
       "Candidate Ref                    int64\n",
       "DOJ Extended                    object\n",
       "Duration to accept offer         int64\n",
       "Notice period                    int64\n",
       "Offered band                    object\n",
       "Pecent hike expected in CTC    float64\n",
       "Percent hike offered in CTC    float64\n",
       "Percent difference CTC         float64\n",
       "Joining Bonus                   object\n",
       "Candidate relocate actual       object\n",
       "Gender                          object\n",
       "Candidate Source                object\n",
       "Rex in Yrs                       int64\n",
       "LOB                             object\n",
       "Location                        object\n",
       "Age                            float64\n",
       "Status                          object\n",
       "dtype: object"
      ]
     },
     "execution_count": 4,
     "metadata": {},
     "output_type": "execute_result"
    }
   ],
   "source": [
    "#datatype\n",
    "df.dtypes"
   ]
  },
  {
   "cell_type": "code",
   "execution_count": 5,
   "metadata": {},
   "outputs": [
    {
     "data": {
      "text/plain": [
       "(8995, 18)"
      ]
     },
     "execution_count": 5,
     "metadata": {},
     "output_type": "execute_result"
    }
   ],
   "source": [
    "#shape of data\n",
    "df.shape"
   ]
  },
  {
   "cell_type": "markdown",
   "metadata": {},
   "source": [
    "**Statistical Summary of Numeric Features**"
   ]
  },
  {
   "cell_type": "code",
   "execution_count": 6,
   "metadata": {},
   "outputs": [
    {
     "data": {
      "text/html": [
       "<div>\n",
       "<style scoped>\n",
       "    .dataframe tbody tr th:only-of-type {\n",
       "        vertical-align: middle;\n",
       "    }\n",
       "\n",
       "    .dataframe tbody tr th {\n",
       "        vertical-align: top;\n",
       "    }\n",
       "\n",
       "    .dataframe thead th {\n",
       "        text-align: right;\n",
       "    }\n",
       "</style>\n",
       "<table border=\"1\" class=\"dataframe\">\n",
       "  <thead>\n",
       "    <tr style=\"text-align: right;\">\n",
       "      <th></th>\n",
       "      <th>count</th>\n",
       "      <th>mean</th>\n",
       "      <th>std</th>\n",
       "      <th>min</th>\n",
       "      <th>25%</th>\n",
       "      <th>50%</th>\n",
       "      <th>75%</th>\n",
       "      <th>max</th>\n",
       "    </tr>\n",
       "  </thead>\n",
       "  <tbody>\n",
       "    <tr>\n",
       "      <th>SLNO</th>\n",
       "      <td>8995.0</td>\n",
       "      <td>5.970984e+03</td>\n",
       "      <td>3373.963454</td>\n",
       "      <td>1.00</td>\n",
       "      <td>3207.50</td>\n",
       "      <td>5976.0</td>\n",
       "      <td>8739.00</td>\n",
       "      <td>12333.00</td>\n",
       "    </tr>\n",
       "    <tr>\n",
       "      <th>Candidate Ref</th>\n",
       "      <td>8995.0</td>\n",
       "      <td>2.843647e+06</td>\n",
       "      <td>486344.774552</td>\n",
       "      <td>2109586.00</td>\n",
       "      <td>2386476.00</td>\n",
       "      <td>2807482.0</td>\n",
       "      <td>3300059.50</td>\n",
       "      <td>3836076.00</td>\n",
       "    </tr>\n",
       "    <tr>\n",
       "      <th>Duration to accept offer</th>\n",
       "      <td>8995.0</td>\n",
       "      <td>2.143446e+01</td>\n",
       "      <td>25.811616</td>\n",
       "      <td>0.00</td>\n",
       "      <td>3.00</td>\n",
       "      <td>10.0</td>\n",
       "      <td>33.00</td>\n",
       "      <td>224.00</td>\n",
       "    </tr>\n",
       "    <tr>\n",
       "      <th>Notice period</th>\n",
       "      <td>8995.0</td>\n",
       "      <td>3.929183e+01</td>\n",
       "      <td>22.220239</td>\n",
       "      <td>0.00</td>\n",
       "      <td>30.00</td>\n",
       "      <td>30.0</td>\n",
       "      <td>60.00</td>\n",
       "      <td>120.00</td>\n",
       "    </tr>\n",
       "    <tr>\n",
       "      <th>Pecent hike expected in CTC</th>\n",
       "      <td>8995.0</td>\n",
       "      <td>4.386480e+01</td>\n",
       "      <td>29.788975</td>\n",
       "      <td>-68.83</td>\n",
       "      <td>27.27</td>\n",
       "      <td>40.0</td>\n",
       "      <td>53.85</td>\n",
       "      <td>359.77</td>\n",
       "    </tr>\n",
       "    <tr>\n",
       "      <th>Percent hike offered in CTC</th>\n",
       "      <td>8995.0</td>\n",
       "      <td>4.065736e+01</td>\n",
       "      <td>36.064060</td>\n",
       "      <td>-60.53</td>\n",
       "      <td>22.09</td>\n",
       "      <td>36.0</td>\n",
       "      <td>50.00</td>\n",
       "      <td>471.43</td>\n",
       "    </tr>\n",
       "    <tr>\n",
       "      <th>Percent difference CTC</th>\n",
       "      <td>8995.0</td>\n",
       "      <td>-1.573802e+00</td>\n",
       "      <td>19.610729</td>\n",
       "      <td>-67.27</td>\n",
       "      <td>-8.33</td>\n",
       "      <td>0.0</td>\n",
       "      <td>0.00</td>\n",
       "      <td>300.00</td>\n",
       "    </tr>\n",
       "    <tr>\n",
       "      <th>Rex in Yrs</th>\n",
       "      <td>8995.0</td>\n",
       "      <td>4.239022e+00</td>\n",
       "      <td>2.547571</td>\n",
       "      <td>0.00</td>\n",
       "      <td>3.00</td>\n",
       "      <td>4.0</td>\n",
       "      <td>6.00</td>\n",
       "      <td>24.00</td>\n",
       "    </tr>\n",
       "    <tr>\n",
       "      <th>Age</th>\n",
       "      <td>8980.0</td>\n",
       "      <td>2.991203e+01</td>\n",
       "      <td>4.095699</td>\n",
       "      <td>20.00</td>\n",
       "      <td>27.00</td>\n",
       "      <td>29.0</td>\n",
       "      <td>34.00</td>\n",
       "      <td>60.00</td>\n",
       "    </tr>\n",
       "  </tbody>\n",
       "</table>\n",
       "</div>"
      ],
      "text/plain": [
       "                              count          mean            std         min  \\\n",
       "SLNO                         8995.0  5.970984e+03    3373.963454        1.00   \n",
       "Candidate Ref                8995.0  2.843647e+06  486344.774552  2109586.00   \n",
       "Duration to accept offer     8995.0  2.143446e+01      25.811616        0.00   \n",
       "Notice period                8995.0  3.929183e+01      22.220239        0.00   \n",
       "Pecent hike expected in CTC  8995.0  4.386480e+01      29.788975      -68.83   \n",
       "Percent hike offered in CTC  8995.0  4.065736e+01      36.064060      -60.53   \n",
       "Percent difference CTC       8995.0 -1.573802e+00      19.610729      -67.27   \n",
       "Rex in Yrs                   8995.0  4.239022e+00       2.547571        0.00   \n",
       "Age                          8980.0  2.991203e+01       4.095699       20.00   \n",
       "\n",
       "                                    25%        50%         75%         max  \n",
       "SLNO                            3207.50     5976.0     8739.00    12333.00  \n",
       "Candidate Ref                2386476.00  2807482.0  3300059.50  3836076.00  \n",
       "Duration to accept offer           3.00       10.0       33.00      224.00  \n",
       "Notice period                     30.00       30.0       60.00      120.00  \n",
       "Pecent hike expected in CTC       27.27       40.0       53.85      359.77  \n",
       "Percent hike offered in CTC       22.09       36.0       50.00      471.43  \n",
       "Percent difference CTC            -8.33        0.0        0.00      300.00  \n",
       "Rex in Yrs                         3.00        4.0        6.00       24.00  \n",
       "Age                               27.00       29.0       34.00       60.00  "
      ]
     },
     "execution_count": 6,
     "metadata": {},
     "output_type": "execute_result"
    }
   ],
   "source": [
    "#describing continues variable\n",
    "df.describe().T"
   ]
  },
  {
   "cell_type": "markdown",
   "metadata": {},
   "source": [
    "**Statistical Summary of Categorical Features**"
   ]
  },
  {
   "cell_type": "code",
   "execution_count": 7,
   "metadata": {},
   "outputs": [
    {
     "data": {
      "text/html": [
       "<div>\n",
       "<style scoped>\n",
       "    .dataframe tbody tr th:only-of-type {\n",
       "        vertical-align: middle;\n",
       "    }\n",
       "\n",
       "    .dataframe tbody tr th {\n",
       "        vertical-align: top;\n",
       "    }\n",
       "\n",
       "    .dataframe thead th {\n",
       "        text-align: right;\n",
       "    }\n",
       "</style>\n",
       "<table border=\"1\" class=\"dataframe\">\n",
       "  <thead>\n",
       "    <tr style=\"text-align: right;\">\n",
       "      <th></th>\n",
       "      <th>count</th>\n",
       "      <th>unique</th>\n",
       "      <th>top</th>\n",
       "      <th>freq</th>\n",
       "    </tr>\n",
       "  </thead>\n",
       "  <tbody>\n",
       "    <tr>\n",
       "      <th>DOJ Extended</th>\n",
       "      <td>8995</td>\n",
       "      <td>2</td>\n",
       "      <td>No</td>\n",
       "      <td>4788</td>\n",
       "    </tr>\n",
       "    <tr>\n",
       "      <th>Offered band</th>\n",
       "      <td>8982</td>\n",
       "      <td>4</td>\n",
       "      <td>E1</td>\n",
       "      <td>5565</td>\n",
       "    </tr>\n",
       "    <tr>\n",
       "      <th>Joining Bonus</th>\n",
       "      <td>8995</td>\n",
       "      <td>2</td>\n",
       "      <td>No</td>\n",
       "      <td>8578</td>\n",
       "    </tr>\n",
       "    <tr>\n",
       "      <th>Candidate relocate actual</th>\n",
       "      <td>8995</td>\n",
       "      <td>2</td>\n",
       "      <td>No</td>\n",
       "      <td>7705</td>\n",
       "    </tr>\n",
       "    <tr>\n",
       "      <th>Gender</th>\n",
       "      <td>8995</td>\n",
       "      <td>2</td>\n",
       "      <td>Male</td>\n",
       "      <td>7444</td>\n",
       "    </tr>\n",
       "    <tr>\n",
       "      <th>Candidate Source</th>\n",
       "      <td>8995</td>\n",
       "      <td>3</td>\n",
       "      <td>Direct</td>\n",
       "      <td>4801</td>\n",
       "    </tr>\n",
       "    <tr>\n",
       "      <th>LOB</th>\n",
       "      <td>8995</td>\n",
       "      <td>9</td>\n",
       "      <td>INFRA</td>\n",
       "      <td>2850</td>\n",
       "    </tr>\n",
       "    <tr>\n",
       "      <th>Location</th>\n",
       "      <td>8995</td>\n",
       "      <td>11</td>\n",
       "      <td>Chennai</td>\n",
       "      <td>3150</td>\n",
       "    </tr>\n",
       "    <tr>\n",
       "      <th>Status</th>\n",
       "      <td>8995</td>\n",
       "      <td>2</td>\n",
       "      <td>Joined</td>\n",
       "      <td>7313</td>\n",
       "    </tr>\n",
       "  </tbody>\n",
       "</table>\n",
       "</div>"
      ],
      "text/plain": [
       "                          count unique      top  freq\n",
       "DOJ Extended               8995      2       No  4788\n",
       "Offered band               8982      4       E1  5565\n",
       "Joining Bonus              8995      2       No  8578\n",
       "Candidate relocate actual  8995      2       No  7705\n",
       "Gender                     8995      2     Male  7444\n",
       "Candidate Source           8995      3   Direct  4801\n",
       "LOB                        8995      9    INFRA  2850\n",
       "Location                   8995     11  Chennai  3150\n",
       "Status                     8995      2   Joined  7313"
      ]
     },
     "execution_count": 7,
     "metadata": {},
     "output_type": "execute_result"
    }
   ],
   "source": [
    "#describing discrete variable\n",
    "df.describe(include=\"object\").T"
   ]
  },
  {
   "cell_type": "code",
   "execution_count": 8,
   "metadata": {},
   "outputs": [
    {
     "data": {
      "text/plain": [
       "SLNO                            0\n",
       "Candidate Ref                   0\n",
       "DOJ Extended                    0\n",
       "Duration to accept offer        0\n",
       "Notice period                   0\n",
       "Offered band                   13\n",
       "Pecent hike expected in CTC     0\n",
       "Percent hike offered in CTC     0\n",
       "Percent difference CTC          0\n",
       "Joining Bonus                   0\n",
       "Candidate relocate actual       0\n",
       "Gender                          0\n",
       "Candidate Source                0\n",
       "Rex in Yrs                      0\n",
       "LOB                             0\n",
       "Location                        0\n",
       "Age                            15\n",
       "Status                          0\n",
       "dtype: int64"
      ]
     },
     "execution_count": 8,
     "metadata": {},
     "output_type": "execute_result"
    }
   ],
   "source": [
    "#finding null value\n",
    "df.isnull().sum()"
   ]
  },
  {
   "cell_type": "code",
   "execution_count": 9,
   "metadata": {},
   "outputs": [],
   "source": [
    "# missing value imputation with forward & mean imputation\n",
    "df['Offered band'].fillna(method='ffill',inplace=True)\n",
    "df['Age'].fillna(df.groupby('Gender')['Age'].transform('mean'), inplace = True) "
   ]
  },
  {
   "cell_type": "code",
   "execution_count": 10,
   "metadata": {},
   "outputs": [
    {
     "data": {
      "text/plain": [
       "SLNO                           0\n",
       "Candidate Ref                  0\n",
       "DOJ Extended                   0\n",
       "Duration to accept offer       0\n",
       "Notice period                  0\n",
       "Offered band                   0\n",
       "Pecent hike expected in CTC    0\n",
       "Percent hike offered in CTC    0\n",
       "Percent difference CTC         0\n",
       "Joining Bonus                  0\n",
       "Candidate relocate actual      0\n",
       "Gender                         0\n",
       "Candidate Source               0\n",
       "Rex in Yrs                     0\n",
       "LOB                            0\n",
       "Location                       0\n",
       "Age                            0\n",
       "Status                         0\n",
       "dtype: int64"
      ]
     },
     "execution_count": 10,
     "metadata": {},
     "output_type": "execute_result"
    }
   ],
   "source": [
    "df.isnull().sum()"
   ]
  },
  {
   "cell_type": "code",
   "execution_count": 11,
   "metadata": {},
   "outputs": [
    {
     "data": {
      "text/html": [
       "<div>\n",
       "<style scoped>\n",
       "    .dataframe tbody tr th:only-of-type {\n",
       "        vertical-align: middle;\n",
       "    }\n",
       "\n",
       "    .dataframe tbody tr th {\n",
       "        vertical-align: top;\n",
       "    }\n",
       "\n",
       "    .dataframe thead th {\n",
       "        text-align: right;\n",
       "    }\n",
       "</style>\n",
       "<table border=\"1\" class=\"dataframe\">\n",
       "  <thead>\n",
       "    <tr style=\"text-align: right;\">\n",
       "      <th></th>\n",
       "      <th>Candidate Ref</th>\n",
       "      <th>DOJ Extended</th>\n",
       "      <th>Duration to accept offer</th>\n",
       "      <th>Notice period</th>\n",
       "      <th>Offered band</th>\n",
       "      <th>Pecent hike expected in CTC</th>\n",
       "      <th>Percent hike offered in CTC</th>\n",
       "      <th>Percent difference CTC</th>\n",
       "      <th>Joining Bonus</th>\n",
       "      <th>Gender</th>\n",
       "      <th>Candidate Source</th>\n",
       "      <th>Rex in Yrs</th>\n",
       "      <th>LOB</th>\n",
       "      <th>Location</th>\n",
       "      <th>Age</th>\n",
       "      <th>Status</th>\n",
       "    </tr>\n",
       "  </thead>\n",
       "  <tbody>\n",
       "    <tr>\n",
       "      <th>0</th>\n",
       "      <td>2110407</td>\n",
       "      <td>Yes</td>\n",
       "      <td>14</td>\n",
       "      <td>30</td>\n",
       "      <td>E2</td>\n",
       "      <td>-20.79</td>\n",
       "      <td>13.16</td>\n",
       "      <td>42.86</td>\n",
       "      <td>No</td>\n",
       "      <td>Female</td>\n",
       "      <td>Agency</td>\n",
       "      <td>7</td>\n",
       "      <td>ERS</td>\n",
       "      <td>Noida</td>\n",
       "      <td>34.0</td>\n",
       "      <td>Joined</td>\n",
       "    </tr>\n",
       "    <tr>\n",
       "      <th>1</th>\n",
       "      <td>2112635</td>\n",
       "      <td>No</td>\n",
       "      <td>18</td>\n",
       "      <td>30</td>\n",
       "      <td>E2</td>\n",
       "      <td>50.00</td>\n",
       "      <td>320.00</td>\n",
       "      <td>180.00</td>\n",
       "      <td>No</td>\n",
       "      <td>Male</td>\n",
       "      <td>Employee Referral</td>\n",
       "      <td>8</td>\n",
       "      <td>INFRA</td>\n",
       "      <td>Chennai</td>\n",
       "      <td>34.0</td>\n",
       "      <td>Joined</td>\n",
       "    </tr>\n",
       "    <tr>\n",
       "      <th>2</th>\n",
       "      <td>2112838</td>\n",
       "      <td>No</td>\n",
       "      <td>3</td>\n",
       "      <td>45</td>\n",
       "      <td>E2</td>\n",
       "      <td>42.84</td>\n",
       "      <td>42.84</td>\n",
       "      <td>0.00</td>\n",
       "      <td>No</td>\n",
       "      <td>Male</td>\n",
       "      <td>Agency</td>\n",
       "      <td>4</td>\n",
       "      <td>INFRA</td>\n",
       "      <td>Noida</td>\n",
       "      <td>27.0</td>\n",
       "      <td>Joined</td>\n",
       "    </tr>\n",
       "    <tr>\n",
       "      <th>3</th>\n",
       "      <td>2115021</td>\n",
       "      <td>No</td>\n",
       "      <td>26</td>\n",
       "      <td>30</td>\n",
       "      <td>E2</td>\n",
       "      <td>42.84</td>\n",
       "      <td>42.84</td>\n",
       "      <td>0.00</td>\n",
       "      <td>No</td>\n",
       "      <td>Male</td>\n",
       "      <td>Employee Referral</td>\n",
       "      <td>4</td>\n",
       "      <td>INFRA</td>\n",
       "      <td>Noida</td>\n",
       "      <td>34.0</td>\n",
       "      <td>Joined</td>\n",
       "    </tr>\n",
       "    <tr>\n",
       "      <th>4</th>\n",
       "      <td>2115125</td>\n",
       "      <td>Yes</td>\n",
       "      <td>1</td>\n",
       "      <td>120</td>\n",
       "      <td>E2</td>\n",
       "      <td>42.59</td>\n",
       "      <td>42.59</td>\n",
       "      <td>0.00</td>\n",
       "      <td>No</td>\n",
       "      <td>Male</td>\n",
       "      <td>Employee Referral</td>\n",
       "      <td>6</td>\n",
       "      <td>INFRA</td>\n",
       "      <td>Noida</td>\n",
       "      <td>34.0</td>\n",
       "      <td>Joined</td>\n",
       "    </tr>\n",
       "    <tr>\n",
       "      <th>...</th>\n",
       "      <td>...</td>\n",
       "      <td>...</td>\n",
       "      <td>...</td>\n",
       "      <td>...</td>\n",
       "      <td>...</td>\n",
       "      <td>...</td>\n",
       "      <td>...</td>\n",
       "      <td>...</td>\n",
       "      <td>...</td>\n",
       "      <td>...</td>\n",
       "      <td>...</td>\n",
       "      <td>...</td>\n",
       "      <td>...</td>\n",
       "      <td>...</td>\n",
       "      <td>...</td>\n",
       "      <td>...</td>\n",
       "    </tr>\n",
       "    <tr>\n",
       "      <th>8990</th>\n",
       "      <td>3822427</td>\n",
       "      <td>No</td>\n",
       "      <td>4</td>\n",
       "      <td>0</td>\n",
       "      <td>E1</td>\n",
       "      <td>191.67</td>\n",
       "      <td>191.67</td>\n",
       "      <td>0.00</td>\n",
       "      <td>No</td>\n",
       "      <td>Male</td>\n",
       "      <td>Employee Referral</td>\n",
       "      <td>1</td>\n",
       "      <td>ERS</td>\n",
       "      <td>Chennai</td>\n",
       "      <td>34.0</td>\n",
       "      <td>Joined</td>\n",
       "    </tr>\n",
       "    <tr>\n",
       "      <th>8991</th>\n",
       "      <td>3828206</td>\n",
       "      <td>Yes</td>\n",
       "      <td>2</td>\n",
       "      <td>0</td>\n",
       "      <td>E1</td>\n",
       "      <td>150.00</td>\n",
       "      <td>150.00</td>\n",
       "      <td>0.00</td>\n",
       "      <td>No</td>\n",
       "      <td>Female</td>\n",
       "      <td>Direct</td>\n",
       "      <td>3</td>\n",
       "      <td>BFSI</td>\n",
       "      <td>Chennai</td>\n",
       "      <td>34.0</td>\n",
       "      <td>Joined</td>\n",
       "    </tr>\n",
       "    <tr>\n",
       "      <th>8992</th>\n",
       "      <td>3834159</td>\n",
       "      <td>No</td>\n",
       "      <td>0</td>\n",
       "      <td>0</td>\n",
       "      <td>E2</td>\n",
       "      <td>35.42</td>\n",
       "      <td>35.42</td>\n",
       "      <td>0.00</td>\n",
       "      <td>No</td>\n",
       "      <td>Male</td>\n",
       "      <td>Direct</td>\n",
       "      <td>5</td>\n",
       "      <td>INFRA</td>\n",
       "      <td>Noida</td>\n",
       "      <td>34.0</td>\n",
       "      <td>Joined</td>\n",
       "    </tr>\n",
       "    <tr>\n",
       "      <th>8993</th>\n",
       "      <td>3835433</td>\n",
       "      <td>No</td>\n",
       "      <td>0</td>\n",
       "      <td>30</td>\n",
       "      <td>E1</td>\n",
       "      <td>76.92</td>\n",
       "      <td>53.85</td>\n",
       "      <td>-13.04</td>\n",
       "      <td>No</td>\n",
       "      <td>Male</td>\n",
       "      <td>Direct</td>\n",
       "      <td>4</td>\n",
       "      <td>INFRA</td>\n",
       "      <td>Noida</td>\n",
       "      <td>34.0</td>\n",
       "      <td>Joined</td>\n",
       "    </tr>\n",
       "    <tr>\n",
       "      <th>8994</th>\n",
       "      <td>3836076</td>\n",
       "      <td>No</td>\n",
       "      <td>2</td>\n",
       "      <td>0</td>\n",
       "      <td>E1</td>\n",
       "      <td>45.25</td>\n",
       "      <td>14.09</td>\n",
       "      <td>-21.45</td>\n",
       "      <td>No</td>\n",
       "      <td>Female</td>\n",
       "      <td>Employee Referral</td>\n",
       "      <td>1</td>\n",
       "      <td>INFRA</td>\n",
       "      <td>Chennai</td>\n",
       "      <td>34.0</td>\n",
       "      <td>Joined</td>\n",
       "    </tr>\n",
       "  </tbody>\n",
       "</table>\n",
       "<p>8995 rows × 16 columns</p>\n",
       "</div>"
      ],
      "text/plain": [
       "      Candidate Ref DOJ Extended  Duration to accept offer  Notice period  \\\n",
       "0           2110407          Yes                        14             30   \n",
       "1           2112635           No                        18             30   \n",
       "2           2112838           No                         3             45   \n",
       "3           2115021           No                        26             30   \n",
       "4           2115125          Yes                         1            120   \n",
       "...             ...          ...                       ...            ...   \n",
       "8990        3822427           No                         4              0   \n",
       "8991        3828206          Yes                         2              0   \n",
       "8992        3834159           No                         0              0   \n",
       "8993        3835433           No                         0             30   \n",
       "8994        3836076           No                         2              0   \n",
       "\n",
       "     Offered band  Pecent hike expected in CTC  Percent hike offered in CTC  \\\n",
       "0              E2                       -20.79                        13.16   \n",
       "1              E2                        50.00                       320.00   \n",
       "2              E2                        42.84                        42.84   \n",
       "3              E2                        42.84                        42.84   \n",
       "4              E2                        42.59                        42.59   \n",
       "...           ...                          ...                          ...   \n",
       "8990           E1                       191.67                       191.67   \n",
       "8991           E1                       150.00                       150.00   \n",
       "8992           E2                        35.42                        35.42   \n",
       "8993           E1                        76.92                        53.85   \n",
       "8994           E1                        45.25                        14.09   \n",
       "\n",
       "      Percent difference CTC Joining Bonus  Gender   Candidate Source  \\\n",
       "0                      42.86            No  Female             Agency   \n",
       "1                     180.00            No    Male  Employee Referral   \n",
       "2                       0.00            No    Male             Agency   \n",
       "3                       0.00            No    Male  Employee Referral   \n",
       "4                       0.00            No    Male  Employee Referral   \n",
       "...                      ...           ...     ...                ...   \n",
       "8990                    0.00            No    Male  Employee Referral   \n",
       "8991                    0.00            No  Female             Direct   \n",
       "8992                    0.00            No    Male             Direct   \n",
       "8993                  -13.04            No    Male             Direct   \n",
       "8994                  -21.45            No  Female  Employee Referral   \n",
       "\n",
       "      Rex in Yrs    LOB Location   Age  Status  \n",
       "0              7    ERS    Noida  34.0  Joined  \n",
       "1              8  INFRA  Chennai  34.0  Joined  \n",
       "2              4  INFRA    Noida  27.0  Joined  \n",
       "3              4  INFRA    Noida  34.0  Joined  \n",
       "4              6  INFRA    Noida  34.0  Joined  \n",
       "...          ...    ...      ...   ...     ...  \n",
       "8990           1    ERS  Chennai  34.0  Joined  \n",
       "8991           3   BFSI  Chennai  34.0  Joined  \n",
       "8992           5  INFRA    Noida  34.0  Joined  \n",
       "8993           4  INFRA    Noida  34.0  Joined  \n",
       "8994           1  INFRA  Chennai  34.0  Joined  \n",
       "\n",
       "[8995 rows x 16 columns]"
      ]
     },
     "execution_count": 11,
     "metadata": {},
     "output_type": "execute_result"
    }
   ],
   "source": [
    "#droping the used columns\n",
    "df.drop('SLNO', axis=1, inplace=True)\n",
    "df.drop(columns=['Candidate relocate actual'])"
   ]
  },
  {
   "cell_type": "code",
   "execution_count": 12,
   "metadata": {},
   "outputs": [
    {
     "name": "stdout",
     "output_type": "stream",
     "text": [
      "No     4788\n",
      "Yes    4207\n",
      "Name: DOJ Extended, dtype: int64 \n",
      "\n",
      "INFRA         2850\n",
      "ERS           2426\n",
      "BFSI          1396\n",
      "ETS            691\n",
      "CSMP           579\n",
      "AXON           568\n",
      "EAS            346\n",
      "Healthcare     124\n",
      "MMS             15\n",
      "Name: LOB, dtype: int64 \n",
      "\n",
      "Male      7444\n",
      "Female    1551\n",
      "Name: Gender, dtype: int64 \n",
      "\n",
      "Direct               4801\n",
      "Agency               2585\n",
      "Employee Referral    1609\n",
      "Name: Candidate Source, dtype: int64 \n",
      "\n",
      "Chennai      3150\n",
      "Noida        2727\n",
      "Bangalore    2230\n",
      "Hyderabad     341\n",
      "Mumbai        197\n",
      "Gurgaon       146\n",
      "Kolkata       129\n",
      "Pune           48\n",
      "Others         13\n",
      "Cochin          8\n",
      "Ahmedabad       6\n",
      "Name: Location, dtype: int64 \n",
      "\n",
      "Joined        7313\n",
      "Not Joined    1682\n",
      "Name: Status, dtype: int64 \n",
      "\n"
     ]
    }
   ],
   "source": [
    "#find the count values\n",
    "print(df['DOJ Extended'].value_counts(),'\\n')\n",
    "print(df['LOB'].value_counts(),'\\n')\n",
    "print(df['Gender'].value_counts(),'\\n')\n",
    "print(df['Candidate Source'].value_counts(),'\\n')\n",
    "print(df['Location'].value_counts(),'\\n')\n",
    "print(df['Status'].value_counts(),'\\n')"
   ]
  },
  {
   "cell_type": "markdown",
   "metadata": {},
   "source": [
    "Primary Observations From Statistical Summary\n",
    "\n",
    "Duration to accept offer has a maximum value of 224 days and a median of 30 days. This looks absurd as no company gives about 8 months to make the decision\n",
    "\n",
    "This dataset has inexperienced to highly experienced candidates having experience of up to 24 years.\n",
    "\n",
    "We also have younger to old candidates up to 60 years of age group as well\n",
    "\n",
    "A candidate got a Percent hike in CTC of exceptional 471% which is more than 100% of what was expected.\n",
    "\n",
    "Most of the candidates were having job offers in Chennai\n",
    "\n",
    "Almost all of the candidates were not given a Joining bonus\n",
    "\n",
    "Most of the candidates are Males\n",
    "\n",
    "About 81% of the candidates in this dataset have joined the company."
   ]
  },
  {
   "cell_type": "markdown",
   "metadata": {},
   "source": [
    "Analysis"
   ]
  },
  {
   "cell_type": "code",
   "execution_count": 13,
   "metadata": {},
   "outputs": [],
   "source": [
    "# to count get  of discrete caraible \n",
    "def count(col):\n",
    "    return df[col].value_counts()"
   ]
  },
  {
   "cell_type": "code",
   "execution_count": 14,
   "metadata": {},
   "outputs": [],
   "source": [
    "#barplot\n",
    "def countp(x):\n",
    "    plt.figure(figsize = (8,6))\n",
    "    sns.countplot(x = x, data = df)"
   ]
  },
  {
   "cell_type": "code",
   "execution_count": 15,
   "metadata": {},
   "outputs": [],
   "source": [
    "#Count Plot Function with hue as Target Variable for Bivariate Analysi\n",
    "def plot_withY(label, dataset):\n",
    "    \n",
    "    plt.figure(figsize=(10,5))\n",
    "    sns.countplot(x=label, data=df, hue=\"Status\")\n",
    "    plt.xticks(rotation=45)\n",
    "    plt.show()"
   ]
  },
  {
   "cell_type": "code",
   "execution_count": 16,
   "metadata": {},
   "outputs": [],
   "source": [
    "#count withrespect to y\n",
    "def count_y(x):\n",
    "    return df.groupby([x, 'Status'])[x].count()"
   ]
  },
  {
   "cell_type": "code",
   "execution_count": 17,
   "metadata": {},
   "outputs": [
    {
     "name": "stdout",
     "output_type": "stream",
     "text": [
      "Joined        81.3\n",
      "Not Joined    18.7\n",
      "Name: Status, dtype: float64\n"
     ]
    },
    {
     "data": {
      "image/png": "[encoded data removed]",
      "text/plain": [
       "<Figure size 720x360 with 1 Axes>"
      ]
     },
     "metadata": {
      "needs_background": "light"
     },
     "output_type": "display_data"
    }
   ],
   "source": [
    "print(f'{round(df.Status.value_counts()/df.shape[0]*100,2)}')\n",
    "plot_withY('Status',df)"
   ]
  },
  {
   "cell_type": "code",
   "execution_count": 18,
   "metadata": {},
   "outputs": [
    {
     "name": "stdout",
     "output_type": "stream",
     "text": [
      "Gender  Status    \n",
      "Female  Joined        1278\n",
      "        Not Joined     273\n",
      "Male    Joined        6035\n",
      "        Not Joined    1409\n",
      "Name: Gender, dtype: int64\n"
     ]
    },
    {
     "data": {
      "image/png": "[encoded data removed]",
      "text/plain": [
       "<Figure size 720x360 with 1 Axes>"
      ]
     },
     "metadata": {
      "needs_background": "light"
     },
     "output_type": "display_data"
    }
   ],
   "source": [
    "print(f\"{count_y('Gender')}\")\n",
    "plot_withY('Gender', df)"
   ]
  },
  {
   "cell_type": "code",
   "execution_count": 19,
   "metadata": {},
   "outputs": [
    {
     "data": {
      "image/png": "[encoded data removed]",
      "text/plain": [
       "<Figure size 720x360 with 1 Axes>"
      ]
     },
     "metadata": {
      "needs_background": "light"
     },
     "output_type": "display_data"
    },
    {
     "name": "stdout",
     "output_type": "stream",
     "text": [
      "Candidate Source   Status    \n",
      "Agency             Joined        1960\n",
      "                   Not Joined     625\n",
      "Direct             Joined        3937\n",
      "                   Not Joined     864\n",
      "Employee Referral  Joined        1416\n",
      "                   Not Joined     193\n",
      "Name: Candidate Source, dtype: int64\n"
     ]
    }
   ],
   "source": [
    "plot_withY('Candidate Source', df)\n",
    "print(f\"{count_y('Candidate Source')}\")"
   ]
  },
  {
   "cell_type": "markdown",
   "metadata": {},
   "source": [
    "Most of the candidates onboarded Directly by the firms\n",
    "\n",
    "Number of candidates who did not join the company from the Direct channel is almost equal to those from Agency Channel even though candidates onboarded through Agency Channel is less\n",
    "\n",
    "A reason behind this is, while applying through an agency, one gets multiple options of companies to apply, thus selecting the one that gives the best benefits\n",
    "While a candidate onboarded directly has fewer or no options at the moment thus having less number who did not join."
   ]
  },
  {
   "cell_type": "code",
   "execution_count": 20,
   "metadata": {},
   "outputs": [
    {
     "data": {
      "image/png": "[encoded data removed]",
      "text/plain": [
       "<Figure size 720x360 with 1 Axes>"
      ]
     },
     "metadata": {
      "needs_background": "light"
     },
     "output_type": "display_data"
    },
    {
     "name": "stdout",
     "output_type": "stream",
     "text": [
      "Joining Bonus  Status    \n",
      "No             Joined        6977\n",
      "               Not Joined    1601\n",
      "Yes            Joined         336\n",
      "               Not Joined      81\n",
      "Name: Joining Bonus, dtype: int64\n"
     ]
    }
   ],
   "source": [
    "plot_withY('Joining Bonus', df)\n",
    "print(f\"{count_y('Joining Bonus')}\")"
   ]
  },
  {
   "cell_type": "code",
   "execution_count": 21,
   "metadata": {},
   "outputs": [
    {
     "name": "stdout",
     "output_type": "stream",
     "text": [
      "DOJ Extended  Status    \n",
      "No            Joined        3882\n",
      "              Not Joined     906\n",
      "Yes           Joined        3431\n",
      "              Not Joined     776\n",
      "Name: DOJ Extended, dtype: int64\n"
     ]
    },
    {
     "data": {
      "image/png": "[encoded data removed]",
      "text/plain": [
       "<Figure size 720x360 with 1 Axes>"
      ]
     },
     "metadata": {
      "needs_background": "light"
     },
     "output_type": "display_data"
    }
   ],
   "source": [
    "print(f\"{count_y('DOJ Extended')}\")\n",
    "plot_withY('DOJ Extended',df)"
   ]
  },
  {
   "cell_type": "code",
   "execution_count": 22,
   "metadata": {},
   "outputs": [
    {
     "name": "stdout",
     "output_type": "stream",
     "text": [
      "E1    61.92\n",
      "E2    30.11\n",
      "E3     5.63\n",
      "E0     2.35\n",
      "Name: Offered band, dtype: float64\n"
     ]
    },
    {
     "data": {
      "image/png": "[encoded data removed]",
      "text/plain": [
       "<Figure size 720x360 with 1 Axes>"
      ]
     },
     "metadata": {
      "needs_background": "light"
     },
     "output_type": "display_data"
    }
   ],
   "source": [
    "print(round(df['Offered band'].value_counts()/df.shape[0]*100,2))\n",
    "plot_withY('Offered band',df)\n"
   ]
  },
  {
   "cell_type": "markdown",
   "metadata": {},
   "source": [
    "Most of the candidates were offered E1 band followed by E2 and E3 and E4.\n",
    "\n",
    "Since, most of them were offered E1, thus most of the candidates who did not join are also from E1\n",
    "\n",
    "Thus, we can say that most of the candidates are freshers or having low experience level."
   ]
  },
  {
   "cell_type": "code",
   "execution_count": 23,
   "metadata": {
    "scrolled": true
   },
   "outputs": [
    {
     "name": "stdout",
     "output_type": "stream",
     "text": [
      "INFRA         31.68\n",
      "ERS           26.97\n",
      "BFSI          15.52\n",
      "ETS            7.68\n",
      "CSMP           6.44\n",
      "AXON           6.31\n",
      "EAS            3.85\n",
      "Healthcare     1.38\n",
      "MMS            0.17\n",
      "Name: LOB, dtype: float64\n"
     ]
    },
    {
     "data": {
      "image/png": "[encoded data removed]",
      "text/plain": [
       "<Figure size 720x360 with 1 Axes>"
      ]
     },
     "metadata": {
      "needs_background": "light"
     },
     "output_type": "display_data"
    }
   ],
   "source": [
    "print(round(df['LOB'].value_counts()/df.shape[0]*100,2))\n",
    "plot_withY('LOB',df)"
   ]
  },
  {
   "cell_type": "markdown",
   "metadata": {},
   "source": [
    "Most of the candidates were offered jobs in the Infrastructure Line of Business\n",
    "\n",
    "Then comes ERS followed by BFSI\n",
    "\n",
    "Infra has twice more candidates than BFSI who joined but has almost equal numbers who did not join\n",
    "\n",
    "This suggests that candidates are more likely to not join a BFSI firm."
   ]
  },
  {
   "cell_type": "code",
   "execution_count": 24,
   "metadata": {},
   "outputs": [
    {
     "data": {
      "image/png": "[encoded data removed]",
      "text/plain": [
       "<Figure size 576x432 with 1 Axes>"
      ]
     },
     "metadata": {
      "needs_background": "light"
     },
     "output_type": "display_data"
    },
    {
     "name": "stdout",
     "output_type": "stream",
     "text": [
      "Location   Status    \n",
      "Ahmedabad  Joined           5\n",
      "           Not Joined       1\n",
      "Bangalore  Joined        1742\n",
      "           Not Joined     488\n",
      "Chennai    Joined        2486\n",
      "           Not Joined     664\n",
      "Cochin     Joined           7\n",
      "           Not Joined       1\n",
      "Gurgaon    Joined         118\n",
      "           Not Joined      28\n",
      "Hyderabad  Joined         266\n",
      "           Not Joined      75\n",
      "Kolkata    Joined         100\n",
      "           Not Joined      29\n",
      "Mumbai     Joined         176\n",
      "           Not Joined      21\n",
      "Noida      Joined        2362\n",
      "           Not Joined     365\n",
      "Others     Joined          13\n",
      "Pune       Joined          38\n",
      "           Not Joined      10\n",
      "Name: Location, dtype: int64\n"
     ]
    }
   ],
   "source": [
    "plt.figure(figsize = (8,6))\n",
    "sns.countplot(x = 'Location', data = df, hue = 'Status')\n",
    "plt.xticks(rotation = 90)\n",
    "plt.xlabel(\"Location\")\n",
    "plt.ylabel(\"Frequency\")\n",
    "plt.title(\"Location Offered with Status\")\n",
    "plt.show()\n",
    "\n",
    "print(count_y('Location'))"
   ]
  },
  {
   "cell_type": "markdown",
   "metadata": {},
   "source": [
    "Chennai, Bangalore and Noida have maximum candidates in comparison to other cities.\n",
    "\n",
    "Reason behind this is these cities are hubs of several top firms in India\n",
    "\n",
    "Bangalore having less number of candidates than Noida has more candidates who didn't join the companies.\n",
    "\n",
    "This suggests that these candidates must be getting better options as Bangalore houses many firms offices."
   ]
  },
  {
   "cell_type": "code",
   "execution_count": 25,
   "metadata": {},
   "outputs": [],
   "source": [
    "def plot_num(feature):\n",
    "    sns.boxplot(data=df, x='Status', y = feature)\n",
    "    plt.show()"
   ]
  },
  {
   "cell_type": "code",
   "execution_count": 26,
   "metadata": {},
   "outputs": [
    {
     "data": {
      "image/png": "[encoded data removed]",
      "text/plain": [
       "<Figure size 432x288 with 1 Axes>"
      ]
     },
     "metadata": {
      "needs_background": "light"
     },
     "output_type": "display_data"
    }
   ],
   "source": [
    "plot_num('Duration to accept offer')"
   ]
  },
  {
   "cell_type": "markdown",
   "metadata": {},
   "source": [
    "The ones who did not join were given as high as 200 days to accept the offer\n",
    "\n",
    "The candidate must be of greater importance to the company as no company offers a time span of 8 months to accept the offer"
   ]
  },
  {
   "cell_type": "code",
   "execution_count": 27,
   "metadata": {},
   "outputs": [
    {
     "data": {
      "image/png": "[encoded data removed]",
      "text/plain": [
       "<Figure size 432x288 with 1 Axes>"
      ]
     },
     "metadata": {
      "needs_background": "light"
     },
     "output_type": "display_data"
    }
   ],
   "source": [
    "plot_num('Notice period')"
   ]
  },
  {
   "cell_type": "markdown",
   "metadata": {},
   "source": [
    "Notice Period of a company varies ranging from 0 days to 120 days\n",
    "\n",
    "Candidates who did not join were given more options of Notice Period starting from 0 days to about 90 days.\n",
    "\n",
    "Mostly who joined were not given 0 days of the notice period (except one outlier)\n",
    "\n",
    "This suggests that candidates who joined are less bothered about the notice period"
   ]
  },
  {
   "cell_type": "code",
   "execution_count": 28,
   "metadata": {},
   "outputs": [
    {
     "data": {
      "image/png": "[encoded data removed]",
      "text/plain": [
       "<Figure size 432x288 with 1 Axes>"
      ]
     },
     "metadata": {
      "needs_background": "light"
     },
     "output_type": "display_data"
    }
   ],
   "source": [
    "plot_num('Pecent hike expected in CTC')"
   ]
  },
  {
   "cell_type": "markdown",
   "metadata": {},
   "source": [
    "Most of the candidates were expecting per cent hike in CTC of about 50%\n",
    "\n",
    "A few candidates were expecting a per cent hike more than 300%\n",
    "\n",
    "But we cannot comment on this, as they might have changed the position or department or had been assigned a managerial post"
   ]
  },
  {
   "cell_type": "code",
   "execution_count": 29,
   "metadata": {},
   "outputs": [
    {
     "data": {
      "image/png": "[encoded data removed]",
      "text/plain": [
       "<Figure size 432x288 with 1 Axes>"
      ]
     },
     "metadata": {
      "needs_background": "light"
     },
     "output_type": "display_data"
    }
   ],
   "source": [
    "plot_num('Percent hike offered in CTC')"
   ]
  },
  {
   "cell_type": "code",
   "execution_count": 30,
   "metadata": {},
   "outputs": [
    {
     "data": {
      "image/png": "[encoded data removed]",
      "text/plain": [
       "<Figure size 432x288 with 1 Axes>"
      ]
     },
     "metadata": {
      "needs_background": "light"
     },
     "output_type": "display_data"
    }
   ],
   "source": [
    "plot_num('Percent difference CTC')"
   ]
  },
  {
   "cell_type": "markdown",
   "metadata": {},
   "source": [
    "Percent difference CTC can produce same observations as those from Percent hike expected and Percent hike offered features\n",
    "\n",
    "A lot of Percent difference in this feature is incorrect, thus we will remove them in Outlier Analysis"
   ]
  },
  {
   "cell_type": "code",
   "execution_count": 31,
   "metadata": {},
   "outputs": [
    {
     "data": {
      "image/png": "[encoded data removed]",
      "text/plain": [
       "<Figure size 432x288 with 1 Axes>"
      ]
     },
     "metadata": {
      "needs_background": "light"
     },
     "output_type": "display_data"
    }
   ],
   "source": [
    "plot_num('Rex in Yrs')"
   ]
  },
  {
   "cell_type": "markdown",
   "metadata": {},
   "source": [
    "Most of the Candidates were having 0 to 8 years of experience\n",
    "\n",
    "We also have candidates having experience of 25 years and more\n",
    "\n",
    "Experience candidates are more likely to join\n",
    "\n",
    "As experienced people understand the work ethics of the corporate world, they don't want to exploit them"
   ]
  },
  {
   "cell_type": "code",
   "execution_count": 32,
   "metadata": {},
   "outputs": [
    {
     "data": {
      "image/png": "[encoded data removed]",
      "text/plain": [
       "<Figure size 432x288 with 1 Axes>"
      ]
     },
     "metadata": {
      "needs_background": "light"
     },
     "output_type": "display_data"
    }
   ],
   "source": [
    "plot_num('Age')"
   ]
  },
  {
   "cell_type": "code",
   "execution_count": 33,
   "metadata": {},
   "outputs": [
    {
     "data": {
      "image/png": "[encoded data removed]",
      "text/plain": [
       "<Figure size 432x288 with 1 Axes>"
      ]
     },
     "metadata": {
      "needs_background": "light"
     },
     "output_type": "display_data"
    }
   ],
   "source": [
    "plot_num('Percent hike offered in CTC')"
   ]
  },
  {
   "cell_type": "markdown",
   "metadata": {},
   "source": [
    "Looks like what candidates were expecting got a little less of per cent hike\n",
    "\n",
    "This makes sense as candidates always aspire more than the calibre\n",
    "\n",
    "We have few candidates who were offered a high per cent hike in CTC which can be related to those candidates who were expecting these hikes\n",
    "\n",
    "This strongly suggests that these set of candidates had applied for a managerial level or equivalent positions"
   ]
  },
  {
   "cell_type": "code",
   "execution_count": 34,
   "metadata": {},
   "outputs": [
    {
     "data": {
      "image/png": "[encoded data removed]",
      "text/plain": [
       "<Figure size 1440x504 with 1 Axes>"
      ]
     },
     "metadata": {
      "needs_background": "light"
     },
     "output_type": "display_data"
    }
   ],
   "source": [
    "#scatterplot W.r.t status,hiike expected & offered\n",
    "plt.figure(figsize=(20,7))\n",
    "#norm = plt.Normalize(vmin=0,vmax=10)\n",
    "sns.scatterplot(x= 'Percent hike offered in CTC', y= 'Pecent hike expected in CTC', hue='Status', data=df)\n",
    "#sns.relplot(, hue='Status', data=df)\n",
    "plt.show()"
   ]
  },
  {
   "cell_type": "markdown",
   "metadata": {},
   "source": [
    "We can see that there is an increasingly linear relation between the expected and offered ctc among the joined candidates."
   ]
  },
  {
   "cell_type": "code",
   "execution_count": 35,
   "metadata": {},
   "outputs": [
    {
     "data": {
      "text/plain": [
       "<AxesSubplot:>"
      ]
     },
     "execution_count": 35,
     "metadata": {},
     "output_type": "execute_result"
    },
    {
     "data": {
      "image/png": "[encoded data removed]",
      "text/plain": [
       "<Figure size 1080x504 with 2 Axes>"
      ]
     },
     "metadata": {
      "needs_background": "light"
     },
     "output_type": "display_data"
    }
   ],
   "source": [
    "#correleation heat map\n",
    "plt.figure(figsize = (15,7))\n",
    "\n",
    "sns.heatmap(df.corr(), annot = True)"
   ]
  },
  {
   "cell_type": "markdown",
   "metadata": {},
   "source": [
    "**EDA Conclusions**\n",
    "\n",
    "Data is imbalance thus it needs to be treated adequately.\n",
    "\n",
    "Most of the candidates are Male and that is why more number of candidates who didn't join are Males\n",
    "\n",
    "Chennai, Bangalore and Noida have maximum candidates in comparison to other cities. This suggests that these candidates must be getting better options as Bangalore houses many firms offices.\n",
    "\n",
    "Almost all of the candidates were not offered any Joining Bonus.\n",
    "\n",
    "Almost 50% of the candidates were offered to extend the Date of Joining While the other half were not offered the same\n",
    "\n",
    "Most of the candidates were offered E1 band followed by E2 and E3 and E4. Since, most of them were offered E1, thus most of the candidates who did not join are also from E1. Thus, we can say that most of the candidates are freshers or having low experience level.\n",
    "\n",
    "Most of the candidates were offered jobs in the Infrastructure Line of Business and Infra has twice more candidates than BFSI who joined but has almost equal numbers who did not join. This suggests that candidates are more likely to not join a BFSI firm.\n",
    "\n",
    "Number of candidates who did not join the company from the Direct channel is almost equal to those from Agency Channel even though candidates onboarded through Agency Channel is less. A reason behind this is, while applying through an agency, one gets multiple options of companies to apply, thus selecting the one that gives the best benefits\n",
    "\n",
    "The ones who were required to relocate, all of them joined which suggests they are in need of job and money are ready to work from anywhere\n",
    "\n",
    "Most of the candidates were of age 22 years to 35 years. It can be observed that the 60 years old candidate did not join. It seems like an error in input as generally people get retired at the age of 60\n",
    "\n",
    "Most of the candidates were expecting per cent hike in CTC of about 50% while a few candidates were expecting a per cent hike more than 300% but we cannot comment on this, as they might have changed the position or department or had been assigned a managerial post\n",
    "\n",
    "Candidates who were expecting got a little less of per cent hike. This makes sense as candidates always aspire more than the calibre. We also see few candidates who were offered a high per cent hike in CTC which can be related to those candidates who were expecting these hikes This strongly suggests that these set of candidates had applied for a managerial level or equivalent positions\n",
    "\n",
    "A lot of Percent difference in Percent difference CTC is incorrect, thus we will remove them in Outlier Analysis\n",
    "\n",
    "Most of the Candidates were having 0 to 8 years of experience. Experience candidates are more likely to join as experienced people understand the work ethics of the corporate world, they don't want to exploit them\n",
    "\n",
    "The ones who did not join were given as high as 200 days to accept the offer which suggests that the candidate must be of greater importance to the company as no company offers a time span of 8 months to accept the offer\n",
    "\n",
    "Notice Period of a company varies ranging from 0 days to 120 days. Candidates who did not join were given more options of Notice Period starting from 0 days to about 90 days while mostly who joined were not given 0 days of the notice period (except one outlier). This suggests that candidates who joined are less bothered about the notice period.\n",
    "\n",
    "None of the categorical variable had any effect on our target variable\n",
    "\n",
    "Among the numerical variables, we have some observations.\n",
    "\n",
    "When we plot age we can see that there are some outliers. But among the candidates who did not choose to join, we can see that there are some extreme outlier towards the age 60. So, there are chances that age affects our target variable.\n",
    "\n",
    "When we consider years of experience, we can see some extreme outliers among the candidates who joined. We can assume that there is slight effect by years of experience on target variable.\n",
    "\n",
    "When we take the CTC offered, we can see that there are a large number of outliers to much extreme values. This shows that more candidates join when offered higher ctc. When we analysis the hike expected that the outliers are higher among teh candidates who joined. So, we can conclude that these two features are related. That is, when the candidates expect higher hike and if it is satisfied, the candidates tend to join.\n",
    "\n",
    "We can conclude that lesser the notice period duration(peaking at 40 to 45 days), higher are the chances for the candidates to join. More the notice period, the longer the candidates will procrastinate and may decide not to join.\n",
    "Also, we can see that there are many outliers in the feature \"Duration to accept the offer\" in the candidates who did not join. Reducing that duration can make sure that candidates do not drop out."
   ]
  },
  {
   "cell_type": "code",
   "execution_count": 36,
   "metadata": {},
   "outputs": [],
   "source": [
    "df2 = df.copy()"
   ]
  },
  {
   "cell_type": "code",
   "execution_count": 37,
   "metadata": {},
   "outputs": [],
   "source": [
    "def confusion_matrix(actuals, predicted):\n",
    "    cm = metrics.confusion_matrix(actuals, predicted, [1,0])\n",
    "    plt.figure(figsize = (8,6))\n",
    "    sns.heatmap(cm, annot = True, fmt = '.2f', xticklabels = ['Joined', 'Not Joined'], yticklabels = ['Joined', 'Not Joined'])\n",
    "\n",
    "    plt.ylabel(\"Actual Labels\")\n",
    "    plt.xlabel(\"Predicted Labels\")\n",
    "\n",
    "    plt.show()"
   ]
  },
  {
   "cell_type": "markdown",
   "metadata": {},
   "source": [
    "**Labeling joined as 1 & 0 for not not joined**"
   ]
  },
  {
   "cell_type": "code",
   "execution_count": 38,
   "metadata": {},
   "outputs": [],
   "source": [
    "df['Status'] = df['Status'].map(lambda x:1 if x=='Joined' else 0)"
   ]
  },
  {
   "cell_type": "markdown",
   "metadata": {},
   "source": [
    "LabelEncoder for Offered band"
   ]
  },
  {
   "cell_type": "code",
   "execution_count": 95,
   "metadata": {},
   "outputs": [],
   "source": [
    "labenc = LabelEncoder()\n",
    "df['Offered band'] = labenc.fit_transform(df['Offered band'])"
   ]
  },
  {
   "cell_type": "code",
   "execution_count": 108,
   "metadata": {},
   "outputs": [],
   "source": [
    "x_feature = list(df.columns)\n",
    "x_feature.remove('Status')\n",
    "encoded_data = pd.get_dummies(df[x_feature], drop_first = True) \n",
    "y = df['Status']\n",
    "x = encoded_data"
   ]
  },
  {
   "cell_type": "code",
   "execution_count": 97,
   "metadata": {},
   "outputs": [],
   "source": [
    "#catagorizing the feature\n",
    "a = x[['Duration to accept offer','Notice period','Pecent hike expected in CTC','Percent hike offered in CTC',\n",
    "   'Percent difference CTC','Rex in Yrs','Age']]\n",
    "b = x.drop(x[['Duration to accept offer','Notice period','Pecent hike expected in CTC','Percent hike offered in CTC',\n",
    "   'Percent difference CTC','Rex in Yrs','Age','Candidate Ref']],axis = 1)"
   ]
  },
  {
   "cell_type": "markdown",
   "metadata": {},
   "source": [
    "**1 --- Joined**\n",
    "\n",
    "**0 --- Not Joined**"
   ]
  },
  {
   "cell_type": "code",
   "execution_count": 141,
   "metadata": {},
   "outputs": [],
   "source": [
    "scaler = StandardScaler()\n",
    "x_scale = scaler.fit_transform(a)\n",
    "X = pd.DataFrame(scaler.fit_transform(a),index=a.index,columns=a.columns)\n"
   ]
  },
  {
   "cell_type": "code",
   "execution_count": 142,
   "metadata": {},
   "outputs": [
    {
     "data": {
      "text/html": [
       "<div>\n",
       "<style scoped>\n",
       "    .dataframe tbody tr th:only-of-type {\n",
       "        vertical-align: middle;\n",
       "    }\n",
       "\n",
       "    .dataframe tbody tr th {\n",
       "        vertical-align: top;\n",
       "    }\n",
       "\n",
       "    .dataframe thead th {\n",
       "        text-align: right;\n",
       "    }\n",
       "</style>\n",
       "<table border=\"1\" class=\"dataframe\">\n",
       "  <thead>\n",
       "    <tr style=\"text-align: right;\">\n",
       "      <th></th>\n",
       "      <th>Duration to accept offer</th>\n",
       "      <th>Notice period</th>\n",
       "      <th>Pecent hike expected in CTC</th>\n",
       "      <th>Percent hike offered in CTC</th>\n",
       "      <th>Percent difference CTC</th>\n",
       "      <th>Rex in Yrs</th>\n",
       "      <th>Age</th>\n",
       "      <th>Offered band</th>\n",
       "      <th>DOJ Extended_Yes</th>\n",
       "      <th>Joining Bonus_Yes</th>\n",
       "      <th>Candidate relocate actual_Yes</th>\n",
       "      <th>Gender_Male</th>\n",
       "      <th>Candidate Source_Direct</th>\n",
       "      <th>Candidate Source_Employee Referral</th>\n",
       "      <th>LOB_BFSI</th>\n",
       "      <th>LOB_CSMP</th>\n",
       "      <th>LOB_EAS</th>\n",
       "      <th>LOB_ERS</th>\n",
       "      <th>LOB_ETS</th>\n",
       "      <th>LOB_Healthcare</th>\n",
       "      <th>LOB_INFRA</th>\n",
       "      <th>LOB_MMS</th>\n",
       "      <th>Location_Bangalore</th>\n",
       "      <th>Location_Chennai</th>\n",
       "      <th>Location_Cochin</th>\n",
       "      <th>Location_Gurgaon</th>\n",
       "      <th>Location_Hyderabad</th>\n",
       "      <th>Location_Kolkata</th>\n",
       "      <th>Location_Mumbai</th>\n",
       "      <th>Location_Noida</th>\n",
       "      <th>Location_Others</th>\n",
       "      <th>Location_Pune</th>\n",
       "    </tr>\n",
       "  </thead>\n",
       "  <tbody>\n",
       "    <tr>\n",
       "      <th>0</th>\n",
       "      <td>-0.288044</td>\n",
       "      <td>-0.418193</td>\n",
       "      <td>-2.170548</td>\n",
       "      <td>-0.762501</td>\n",
       "      <td>2.265916</td>\n",
       "      <td>1.083829</td>\n",
       "      <td>0.998974</td>\n",
       "      <td>2</td>\n",
       "      <td>1</td>\n",
       "      <td>0</td>\n",
       "      <td>0</td>\n",
       "      <td>0</td>\n",
       "      <td>0</td>\n",
       "      <td>0</td>\n",
       "      <td>0</td>\n",
       "      <td>0</td>\n",
       "      <td>0</td>\n",
       "      <td>1</td>\n",
       "      <td>0</td>\n",
       "      <td>0</td>\n",
       "      <td>0</td>\n",
       "      <td>0</td>\n",
       "      <td>0</td>\n",
       "      <td>0</td>\n",
       "      <td>0</td>\n",
       "      <td>0</td>\n",
       "      <td>0</td>\n",
       "      <td>0</td>\n",
       "      <td>0</td>\n",
       "      <td>1</td>\n",
       "      <td>0</td>\n",
       "      <td>0</td>\n",
       "    </tr>\n",
       "    <tr>\n",
       "      <th>1</th>\n",
       "      <td>-0.133066</td>\n",
       "      <td>-0.418193</td>\n",
       "      <td>0.205967</td>\n",
       "      <td>7.746165</td>\n",
       "      <td>9.259416</td>\n",
       "      <td>1.476382</td>\n",
       "      <td>0.998974</td>\n",
       "      <td>2</td>\n",
       "      <td>0</td>\n",
       "      <td>0</td>\n",
       "      <td>0</td>\n",
       "      <td>1</td>\n",
       "      <td>0</td>\n",
       "      <td>1</td>\n",
       "      <td>0</td>\n",
       "      <td>0</td>\n",
       "      <td>0</td>\n",
       "      <td>0</td>\n",
       "      <td>0</td>\n",
       "      <td>0</td>\n",
       "      <td>1</td>\n",
       "      <td>0</td>\n",
       "      <td>0</td>\n",
       "      <td>1</td>\n",
       "      <td>0</td>\n",
       "      <td>0</td>\n",
       "      <td>0</td>\n",
       "      <td>0</td>\n",
       "      <td>0</td>\n",
       "      <td>0</td>\n",
       "      <td>0</td>\n",
       "      <td>0</td>\n",
       "    </tr>\n",
       "    <tr>\n",
       "      <th>2</th>\n",
       "      <td>-0.714232</td>\n",
       "      <td>0.256905</td>\n",
       "      <td>-0.034404</td>\n",
       "      <td>0.060525</td>\n",
       "      <td>0.080257</td>\n",
       "      <td>-0.093829</td>\n",
       "      <td>-0.711643</td>\n",
       "      <td>2</td>\n",
       "      <td>0</td>\n",
       "      <td>0</td>\n",
       "      <td>0</td>\n",
       "      <td>1</td>\n",
       "      <td>0</td>\n",
       "      <td>0</td>\n",
       "      <td>0</td>\n",
       "      <td>0</td>\n",
       "      <td>0</td>\n",
       "      <td>0</td>\n",
       "      <td>0</td>\n",
       "      <td>0</td>\n",
       "      <td>1</td>\n",
       "      <td>0</td>\n",
       "      <td>0</td>\n",
       "      <td>0</td>\n",
       "      <td>0</td>\n",
       "      <td>0</td>\n",
       "      <td>0</td>\n",
       "      <td>0</td>\n",
       "      <td>0</td>\n",
       "      <td>1</td>\n",
       "      <td>0</td>\n",
       "      <td>0</td>\n",
       "    </tr>\n",
       "    <tr>\n",
       "      <th>3</th>\n",
       "      <td>0.176889</td>\n",
       "      <td>-0.418193</td>\n",
       "      <td>-0.034404</td>\n",
       "      <td>0.060525</td>\n",
       "      <td>0.080257</td>\n",
       "      <td>-0.093829</td>\n",
       "      <td>0.998974</td>\n",
       "      <td>2</td>\n",
       "      <td>0</td>\n",
       "      <td>0</td>\n",
       "      <td>0</td>\n",
       "      <td>1</td>\n",
       "      <td>0</td>\n",
       "      <td>1</td>\n",
       "      <td>0</td>\n",
       "      <td>0</td>\n",
       "      <td>0</td>\n",
       "      <td>0</td>\n",
       "      <td>0</td>\n",
       "      <td>0</td>\n",
       "      <td>1</td>\n",
       "      <td>0</td>\n",
       "      <td>0</td>\n",
       "      <td>0</td>\n",
       "      <td>0</td>\n",
       "      <td>0</td>\n",
       "      <td>0</td>\n",
       "      <td>0</td>\n",
       "      <td>0</td>\n",
       "      <td>1</td>\n",
       "      <td>0</td>\n",
       "      <td>0</td>\n",
       "    </tr>\n",
       "    <tr>\n",
       "      <th>4</th>\n",
       "      <td>-0.791721</td>\n",
       "      <td>3.632394</td>\n",
       "      <td>-0.042797</td>\n",
       "      <td>0.053592</td>\n",
       "      <td>0.080257</td>\n",
       "      <td>0.691277</td>\n",
       "      <td>0.998974</td>\n",
       "      <td>2</td>\n",
       "      <td>1</td>\n",
       "      <td>0</td>\n",
       "      <td>1</td>\n",
       "      <td>1</td>\n",
       "      <td>0</td>\n",
       "      <td>1</td>\n",
       "      <td>0</td>\n",
       "      <td>0</td>\n",
       "      <td>0</td>\n",
       "      <td>0</td>\n",
       "      <td>0</td>\n",
       "      <td>0</td>\n",
       "      <td>1</td>\n",
       "      <td>0</td>\n",
       "      <td>0</td>\n",
       "      <td>0</td>\n",
       "      <td>0</td>\n",
       "      <td>0</td>\n",
       "      <td>0</td>\n",
       "      <td>0</td>\n",
       "      <td>0</td>\n",
       "      <td>1</td>\n",
       "      <td>0</td>\n",
       "      <td>0</td>\n",
       "    </tr>\n",
       "    <tr>\n",
       "      <th>...</th>\n",
       "      <td>...</td>\n",
       "      <td>...</td>\n",
       "      <td>...</td>\n",
       "      <td>...</td>\n",
       "      <td>...</td>\n",
       "      <td>...</td>\n",
       "      <td>...</td>\n",
       "      <td>...</td>\n",
       "      <td>...</td>\n",
       "      <td>...</td>\n",
       "      <td>...</td>\n",
       "      <td>...</td>\n",
       "      <td>...</td>\n",
       "      <td>...</td>\n",
       "      <td>...</td>\n",
       "      <td>...</td>\n",
       "      <td>...</td>\n",
       "      <td>...</td>\n",
       "      <td>...</td>\n",
       "      <td>...</td>\n",
       "      <td>...</td>\n",
       "      <td>...</td>\n",
       "      <td>...</td>\n",
       "      <td>...</td>\n",
       "      <td>...</td>\n",
       "      <td>...</td>\n",
       "      <td>...</td>\n",
       "      <td>...</td>\n",
       "      <td>...</td>\n",
       "      <td>...</td>\n",
       "      <td>...</td>\n",
       "      <td>...</td>\n",
       "    </tr>\n",
       "    <tr>\n",
       "      <th>8990</th>\n",
       "      <td>-0.675488</td>\n",
       "      <td>-1.768388</td>\n",
       "      <td>4.962017</td>\n",
       "      <td>4.187577</td>\n",
       "      <td>0.080257</td>\n",
       "      <td>-1.271487</td>\n",
       "      <td>0.998974</td>\n",
       "      <td>1</td>\n",
       "      <td>0</td>\n",
       "      <td>0</td>\n",
       "      <td>0</td>\n",
       "      <td>1</td>\n",
       "      <td>0</td>\n",
       "      <td>1</td>\n",
       "      <td>0</td>\n",
       "      <td>0</td>\n",
       "      <td>0</td>\n",
       "      <td>1</td>\n",
       "      <td>0</td>\n",
       "      <td>0</td>\n",
       "      <td>0</td>\n",
       "      <td>0</td>\n",
       "      <td>0</td>\n",
       "      <td>1</td>\n",
       "      <td>0</td>\n",
       "      <td>0</td>\n",
       "      <td>0</td>\n",
       "      <td>0</td>\n",
       "      <td>0</td>\n",
       "      <td>0</td>\n",
       "      <td>0</td>\n",
       "      <td>0</td>\n",
       "    </tr>\n",
       "    <tr>\n",
       "      <th>8991</th>\n",
       "      <td>-0.752977</td>\n",
       "      <td>-1.768388</td>\n",
       "      <td>3.563100</td>\n",
       "      <td>3.032069</td>\n",
       "      <td>0.080257</td>\n",
       "      <td>-0.486381</td>\n",
       "      <td>0.998974</td>\n",
       "      <td>1</td>\n",
       "      <td>1</td>\n",
       "      <td>0</td>\n",
       "      <td>0</td>\n",
       "      <td>0</td>\n",
       "      <td>1</td>\n",
       "      <td>0</td>\n",
       "      <td>1</td>\n",
       "      <td>0</td>\n",
       "      <td>0</td>\n",
       "      <td>0</td>\n",
       "      <td>0</td>\n",
       "      <td>0</td>\n",
       "      <td>0</td>\n",
       "      <td>0</td>\n",
       "      <td>0</td>\n",
       "      <td>1</td>\n",
       "      <td>0</td>\n",
       "      <td>0</td>\n",
       "      <td>0</td>\n",
       "      <td>0</td>\n",
       "      <td>0</td>\n",
       "      <td>0</td>\n",
       "      <td>0</td>\n",
       "      <td>0</td>\n",
       "    </tr>\n",
       "    <tr>\n",
       "      <th>8992</th>\n",
       "      <td>-0.830465</td>\n",
       "      <td>-1.768388</td>\n",
       "      <td>-0.283503</td>\n",
       "      <td>-0.145232</td>\n",
       "      <td>0.080257</td>\n",
       "      <td>0.298724</td>\n",
       "      <td>0.998974</td>\n",
       "      <td>2</td>\n",
       "      <td>0</td>\n",
       "      <td>0</td>\n",
       "      <td>0</td>\n",
       "      <td>1</td>\n",
       "      <td>1</td>\n",
       "      <td>0</td>\n",
       "      <td>0</td>\n",
       "      <td>0</td>\n",
       "      <td>0</td>\n",
       "      <td>0</td>\n",
       "      <td>0</td>\n",
       "      <td>0</td>\n",
       "      <td>1</td>\n",
       "      <td>0</td>\n",
       "      <td>0</td>\n",
       "      <td>0</td>\n",
       "      <td>0</td>\n",
       "      <td>0</td>\n",
       "      <td>0</td>\n",
       "      <td>0</td>\n",
       "      <td>0</td>\n",
       "      <td>1</td>\n",
       "      <td>0</td>\n",
       "      <td>0</td>\n",
       "    </tr>\n",
       "    <tr>\n",
       "      <th>8993</th>\n",
       "      <td>-0.830465</td>\n",
       "      <td>-0.418193</td>\n",
       "      <td>1.109707</td>\n",
       "      <td>0.365832</td>\n",
       "      <td>-0.584723</td>\n",
       "      <td>-0.093829</td>\n",
       "      <td>0.998974</td>\n",
       "      <td>1</td>\n",
       "      <td>0</td>\n",
       "      <td>0</td>\n",
       "      <td>0</td>\n",
       "      <td>1</td>\n",
       "      <td>1</td>\n",
       "      <td>0</td>\n",
       "      <td>0</td>\n",
       "      <td>0</td>\n",
       "      <td>0</td>\n",
       "      <td>0</td>\n",
       "      <td>0</td>\n",
       "      <td>0</td>\n",
       "      <td>1</td>\n",
       "      <td>0</td>\n",
       "      <td>0</td>\n",
       "      <td>0</td>\n",
       "      <td>0</td>\n",
       "      <td>0</td>\n",
       "      <td>0</td>\n",
       "      <td>0</td>\n",
       "      <td>0</td>\n",
       "      <td>1</td>\n",
       "      <td>0</td>\n",
       "      <td>0</td>\n",
       "    </tr>\n",
       "    <tr>\n",
       "      <th>8994</th>\n",
       "      <td>-0.752977</td>\n",
       "      <td>-1.768388</td>\n",
       "      <td>0.046503</td>\n",
       "      <td>-0.736712</td>\n",
       "      <td>-1.013593</td>\n",
       "      <td>-1.271487</td>\n",
       "      <td>0.998974</td>\n",
       "      <td>1</td>\n",
       "      <td>0</td>\n",
       "      <td>0</td>\n",
       "      <td>0</td>\n",
       "      <td>0</td>\n",
       "      <td>0</td>\n",
       "      <td>1</td>\n",
       "      <td>0</td>\n",
       "      <td>0</td>\n",
       "      <td>0</td>\n",
       "      <td>0</td>\n",
       "      <td>0</td>\n",
       "      <td>0</td>\n",
       "      <td>1</td>\n",
       "      <td>0</td>\n",
       "      <td>0</td>\n",
       "      <td>1</td>\n",
       "      <td>0</td>\n",
       "      <td>0</td>\n",
       "      <td>0</td>\n",
       "      <td>0</td>\n",
       "      <td>0</td>\n",
       "      <td>0</td>\n",
       "      <td>0</td>\n",
       "      <td>0</td>\n",
       "    </tr>\n",
       "  </tbody>\n",
       "</table>\n",
       "<p>8995 rows × 32 columns</p>\n",
       "</div>"
      ],
      "text/plain": [
       "      Duration to accept offer  Notice period  Pecent hike expected in CTC  \\\n",
       "0                    -0.288044      -0.418193                    -2.170548   \n",
       "1                    -0.133066      -0.418193                     0.205967   \n",
       "2                    -0.714232       0.256905                    -0.034404   \n",
       "3                     0.176889      -0.418193                    -0.034404   \n",
       "4                    -0.791721       3.632394                    -0.042797   \n",
       "...                        ...            ...                          ...   \n",
       "8990                 -0.675488      -1.768388                     4.962017   \n",
       "8991                 -0.752977      -1.768388                     3.563100   \n",
       "8992                 -0.830465      -1.768388                    -0.283503   \n",
       "8993                 -0.830465      -0.418193                     1.109707   \n",
       "8994                 -0.752977      -1.768388                     0.046503   \n",
       "\n",
       "      Percent hike offered in CTC  Percent difference CTC  Rex in Yrs  \\\n",
       "0                       -0.762501                2.265916    1.083829   \n",
       "1                        7.746165                9.259416    1.476382   \n",
       "2                        0.060525                0.080257   -0.093829   \n",
       "3                        0.060525                0.080257   -0.093829   \n",
       "4                        0.053592                0.080257    0.691277   \n",
       "...                           ...                     ...         ...   \n",
       "8990                     4.187577                0.080257   -1.271487   \n",
       "8991                     3.032069                0.080257   -0.486381   \n",
       "8992                    -0.145232                0.080257    0.298724   \n",
       "8993                     0.365832               -0.584723   -0.093829   \n",
       "8994                    -0.736712               -1.013593   -1.271487   \n",
       "\n",
       "           Age  Offered band  DOJ Extended_Yes  Joining Bonus_Yes  \\\n",
       "0     0.998974             2                 1                  0   \n",
       "1     0.998974             2                 0                  0   \n",
       "2    -0.711643             2                 0                  0   \n",
       "3     0.998974             2                 0                  0   \n",
       "4     0.998974             2                 1                  0   \n",
       "...        ...           ...               ...                ...   \n",
       "8990  0.998974             1                 0                  0   \n",
       "8991  0.998974             1                 1                  0   \n",
       "8992  0.998974             2                 0                  0   \n",
       "8993  0.998974             1                 0                  0   \n",
       "8994  0.998974             1                 0                  0   \n",
       "\n",
       "      Candidate relocate actual_Yes  Gender_Male  Candidate Source_Direct  \\\n",
       "0                                 0            0                        0   \n",
       "1                                 0            1                        0   \n",
       "2                                 0            1                        0   \n",
       "3                                 0            1                        0   \n",
       "4                                 1            1                        0   \n",
       "...                             ...          ...                      ...   \n",
       "8990                              0            1                        0   \n",
       "8991                              0            0                        1   \n",
       "8992                              0            1                        1   \n",
       "8993                              0            1                        1   \n",
       "8994                              0            0                        0   \n",
       "\n",
       "      Candidate Source_Employee Referral  LOB_BFSI  LOB_CSMP  LOB_EAS  \\\n",
       "0                                      0         0         0        0   \n",
       "1                                      1         0         0        0   \n",
       "2                                      0         0         0        0   \n",
       "3                                      1         0         0        0   \n",
       "4                                      1         0         0        0   \n",
       "...                                  ...       ...       ...      ...   \n",
       "8990                                   1         0         0        0   \n",
       "8991                                   0         1         0        0   \n",
       "8992                                   0         0         0        0   \n",
       "8993                                   0         0         0        0   \n",
       "8994                                   1         0         0        0   \n",
       "\n",
       "      LOB_ERS  LOB_ETS  LOB_Healthcare  LOB_INFRA  LOB_MMS  \\\n",
       "0           1        0               0          0        0   \n",
       "1           0        0               0          1        0   \n",
       "2           0        0               0          1        0   \n",
       "3           0        0               0          1        0   \n",
       "4           0        0               0          1        0   \n",
       "...       ...      ...             ...        ...      ...   \n",
       "8990        1        0               0          0        0   \n",
       "8991        0        0               0          0        0   \n",
       "8992        0        0               0          1        0   \n",
       "8993        0        0               0          1        0   \n",
       "8994        0        0               0          1        0   \n",
       "\n",
       "      Location_Bangalore  Location_Chennai  Location_Cochin  Location_Gurgaon  \\\n",
       "0                      0                 0                0                 0   \n",
       "1                      0                 1                0                 0   \n",
       "2                      0                 0                0                 0   \n",
       "3                      0                 0                0                 0   \n",
       "4                      0                 0                0                 0   \n",
       "...                  ...               ...              ...               ...   \n",
       "8990                   0                 1                0                 0   \n",
       "8991                   0                 1                0                 0   \n",
       "8992                   0                 0                0                 0   \n",
       "8993                   0                 0                0                 0   \n",
       "8994                   0                 1                0                 0   \n",
       "\n",
       "      Location_Hyderabad  Location_Kolkata  Location_Mumbai  Location_Noida  \\\n",
       "0                      0                 0                0               1   \n",
       "1                      0                 0                0               0   \n",
       "2                      0                 0                0               1   \n",
       "3                      0                 0                0               1   \n",
       "4                      0                 0                0               1   \n",
       "...                  ...               ...              ...             ...   \n",
       "8990                   0                 0                0               0   \n",
       "8991                   0                 0                0               0   \n",
       "8992                   0                 0                0               1   \n",
       "8993                   0                 0                0               1   \n",
       "8994                   0                 0                0               0   \n",
       "\n",
       "      Location_Others  Location_Pune  \n",
       "0                   0              0  \n",
       "1                   0              0  \n",
       "2                   0              0  \n",
       "3                   0              0  \n",
       "4                   0              0  \n",
       "...               ...            ...  \n",
       "8990                0              0  \n",
       "8991                0              0  \n",
       "8992                0              0  \n",
       "8993                0              0  \n",
       "8994                0              0  \n",
       "\n",
       "[8995 rows x 32 columns]"
      ]
     },
     "execution_count": 142,
     "metadata": {},
     "output_type": "execute_result"
    }
   ],
   "source": [
    "x_scale = pd.concat([X, b], axis = 1)\n",
    "x_scale"
   ]
  },
  {
   "cell_type": "markdown",
   "metadata": {},
   "source": [
    "**Model 1** "
   ]
  },
  {
   "cell_type": "code",
   "execution_count": 43,
   "metadata": {},
   "outputs": [],
   "source": [
    "x_train, x_test, y_train, y_test = train_test_split(x_scale,y,train_size=0.7,stratify=y , random_state = 42)"
   ]
  },
  {
   "cell_type": "code",
   "execution_count": 102,
   "metadata": {},
   "outputs": [
    {
     "data": {
      "text/plain": [
       "array([[5.68235921e-02, 9.43176408e-01],\n",
       "       [4.25254785e-04, 9.99574745e-01],\n",
       "       [1.19040939e-01, 8.80959061e-01],\n",
       "       ...,\n",
       "       [1.36527560e-01, 8.63472440e-01],\n",
       "       [1.09998745e-03, 9.98900013e-01],\n",
       "       [4.92947346e-01, 5.07052654e-01]])"
      ]
     },
     "execution_count": 102,
     "metadata": {},
     "output_type": "execute_result"
    }
   ],
   "source": [
    "log_reg=LogisticRegression(max_iter=55,solver= \"newton-cg\")\n",
    "log_reg.fit(x_train,y_train)\n",
    "y_pred = log_reg.predict(x_test)\n",
    "log_reg.predict_proba(x_test)"
   ]
  },
  {
   "cell_type": "code",
   "execution_count": 103,
   "metadata": {},
   "outputs": [
    {
     "name": "stdout",
     "output_type": "stream",
     "text": [
      "confusion matrix :\n",
      "[[  28  490]\n",
      " [  29 2152]] \n",
      "\n",
      "\n",
      "Accuracy : 0.8077065579844387 \n",
      "\n",
      "\n",
      "              precision    recall  f1-score   support\n",
      "\n",
      "           0       0.49      0.05      0.10       518\n",
      "           1       0.81      0.99      0.89      2181\n",
      "\n",
      "    accuracy                           0.81      2699\n",
      "   macro avg       0.65      0.52      0.49      2699\n",
      "weighted avg       0.75      0.81      0.74      2699\n",
      " \n",
      " \n",
      "\n"
     ]
    }
   ],
   "source": [
    "print('confusion matrix :')\n",
    "print(f'{metrics.confusion_matrix(y_test,y_pred)}','\\n\\n')\n",
    "print(f'Accuracy : {metrics.accuracy_score(y_test,y_pred)}','\\n\\n')\n",
    "print(f'{metrics.classification_report(y_test, y_pred)}','\\n','\\n')"
   ]
  },
  {
   "cell_type": "markdown",
   "metadata": {},
   "source": [
    "**Model 2**"
   ]
  },
  {
   "cell_type": "code",
   "execution_count": 115,
   "metadata": {},
   "outputs": [],
   "source": [
    "x_feature = list(df.columns)\n",
    "x_feature.remove('Status')\n",
    "encoded_data = pd.get_dummies(df[x_feature], drop_first = True) \n",
    "y = df['Status']\n",
    "x = encoded_data\n",
    "x = x.drop(['Candidate Ref'],axis = 1)"
   ]
  },
  {
   "cell_type": "code",
   "execution_count": 118,
   "metadata": {},
   "outputs": [],
   "source": [
    "x_train, x_test, y_train, y_test = train_test_split(x_scale,y,train_size=0.7,stratify=y , random_state = 42)"
   ]
  },
  {
   "cell_type": "code",
   "execution_count": 119,
   "metadata": {},
   "outputs": [
    {
     "data": {
      "text/plain": [
       "GridSearchCV(cv=3, estimator=DecisionTreeClassifier(),\n",
       "             param_grid=[{'max_depth': [10, 11, 12, 13, 14, 15, 16, 17],\n",
       "                          'max_features': [0, 1, 2, 3, 4, 5, 6, 7, 8, 9]}],\n",
       "             scoring='accuracy')"
      ]
     },
     "execution_count": 119,
     "metadata": {},
     "output_type": "execute_result"
    }
   ],
   "source": [
    "dtc = DecisionTreeClassifier()\n",
    "param = [{'max_depth': list(range(10, 18)), 'max_features': list(range(0,10))}]\n",
    "clf_dtc = GridSearchCV(dtc, cv = 3, param_grid = param, scoring = 'accuracy')\n",
    "clf_dtc.fit(x_train, y_train)"
   ]
  },
  {
   "cell_type": "code",
   "execution_count": 120,
   "metadata": {},
   "outputs": [
    {
     "data": {
      "text/plain": [
       "{'max_depth': 10, 'max_features': 1}"
      ]
     },
     "execution_count": 120,
     "metadata": {},
     "output_type": "execute_result"
    }
   ],
   "source": [
    "clf_dtc.best_params_"
   ]
  },
  {
   "cell_type": "code",
   "execution_count": 121,
   "metadata": {},
   "outputs": [
    {
     "name": "stdout",
     "output_type": "stream",
     "text": [
      "              precision    recall  f1-score   support\n",
      "\n",
      "           0       0.17      0.01      0.02       505\n",
      "           1       0.81      0.99      0.89      2194\n",
      "\n",
      "    accuracy                           0.81      2699\n",
      "   macro avg       0.49      0.50      0.45      2699\n",
      "weighted avg       0.69      0.81      0.73      2699\n",
      "\n"
     ]
    }
   ],
   "source": [
    "print(metrics.classification_report(y_test, clf_dtc.predict(x_test)))"
   ]
  },
  {
   "cell_type": "code",
   "execution_count": 122,
   "metadata": {},
   "outputs": [],
   "source": [
    "y_pred = clf_dtc.predict(x_test)"
   ]
  },
  {
   "cell_type": "code",
   "execution_count": 123,
   "metadata": {},
   "outputs": [
    {
     "name": "stdout",
     "output_type": "stream",
     "text": [
      "[[   4  501]\n",
      " [  19 2175]] \n",
      "\n",
      "\n"
     ]
    }
   ],
   "source": [
    "print(f'{metrics.confusion_matrix(y_test,y_pred)}','\\n\\n')"
   ]
  },
  {
   "cell_type": "markdown",
   "metadata": {},
   "source": [
    "The model basically predict on  overall accruracy of 81% but it cound'nt not joiner properly i think it is because of mablaced in data the not joiner is 1/4 of joiner with even though i did stratified sampling it did help me much."
   ]
  },
  {
   "cell_type": "markdown",
   "metadata": {},
   "source": [
    "Upsampling the Data\n",
    "\n",
    "Since the target variable is imbalanced, the model will produce biased results, thus we need to resample the data\n",
    "\n",
    "Here we are using Upsampling technique SMOTE to upsample the data"
   ]
  },
  {
   "cell_type": "markdown",
   "metadata": {},
   "source": [
    "**Model 3**"
   ]
  },
  {
   "cell_type": "code",
   "execution_count": 124,
   "metadata": {},
   "outputs": [],
   "source": [
    "x_feature = list(df.columns)\n",
    "x_feature.remove('Status')\n",
    "encoded_data = pd.get_dummies(df[x_feature], drop_first = True) \n",
    "#y = df['Status']\n",
    "x = encoded_data\n",
    "x = x.drop(['Candidate Ref'],axis = 1)\n",
    "y = df['Status']"
   ]
  },
  {
   "cell_type": "code",
   "execution_count": 125,
   "metadata": {},
   "outputs": [],
   "source": [
    "scaler = StandardScaler()\n",
    "x_scale = scaler.fit_transform(x)"
   ]
  },
  {
   "cell_type": "code",
   "execution_count": 126,
   "metadata": {},
   "outputs": [],
   "source": [
    "x_train, x_test, y_train, y_test = train_test_split(x_scale, y, test_size = 0.3, random_state = 42)"
   ]
  },
  {
   "cell_type": "code",
   "execution_count": 127,
   "metadata": {},
   "outputs": [],
   "source": [
    "sm = SMOTE(random_state=12)\n",
    "x_train_sm, y_train_sm = sm.fit_resample(x_train, y_train)"
   ]
  },
  {
   "cell_type": "code",
   "execution_count": 128,
   "metadata": {},
   "outputs": [
    {
     "name": "stdout",
     "output_type": "stream",
     "text": [
      "1    5132\n",
      "0    5132\n",
      "Name: Status, dtype: int64\n"
     ]
    }
   ],
   "source": [
    "print(y_train_sm.value_counts())"
   ]
  },
  {
   "cell_type": "code",
   "execution_count": 129,
   "metadata": {},
   "outputs": [],
   "source": [
    "sm = SMOTE(random_state=12)\n",
    "x_train_sm, y_train_sm = sm.fit_resample(x_train, y_train)"
   ]
  },
  {
   "cell_type": "code",
   "execution_count": 130,
   "metadata": {},
   "outputs": [],
   "source": [
    "logreg = LogisticRegression()"
   ]
  },
  {
   "cell_type": "code",
   "execution_count": 131,
   "metadata": {},
   "outputs": [
    {
     "data": {
      "text/plain": [
       "LogisticRegression()"
      ]
     },
     "execution_count": 131,
     "metadata": {},
     "output_type": "execute_result"
    }
   ],
   "source": [
    "logreg.fit(x_train_sm, y_train_sm)"
   ]
  },
  {
   "cell_type": "code",
   "execution_count": 132,
   "metadata": {},
   "outputs": [],
   "source": [
    "y_pred = logreg.predict(x_test)"
   ]
  },
  {
   "cell_type": "code",
   "execution_count": 133,
   "metadata": {},
   "outputs": [
    {
     "name": "stdout",
     "output_type": "stream",
     "text": [
      "              precision    recall  f1-score   support\n",
      "\n",
      "           0       0.30      0.69      0.41       518\n",
      "           1       0.89      0.61      0.72      2181\n",
      "\n",
      "    accuracy                           0.62      2699\n",
      "   macro avg       0.59      0.65      0.57      2699\n",
      "weighted avg       0.78      0.62      0.66      2699\n",
      "\n"
     ]
    }
   ],
   "source": [
    "print(metrics.classification_report(y_test, y_pred))"
   ]
  },
  {
   "cell_type": "code",
   "execution_count": 134,
   "metadata": {},
   "outputs": [
    {
     "name": "stdout",
     "output_type": "stream",
     "text": [
      "[[ 357  161]\n",
      " [ 853 1328]] \n",
      "\n",
      "\n"
     ]
    }
   ],
   "source": [
    "#confusion_matrix(y_test, logreg.predict(x_test))\n",
    "print(f'{metrics.confusion_matrix(y_test, y_pred)}','\\n\\n')"
   ]
  },
  {
   "cell_type": "markdown",
   "metadata": {},
   "source": [
    "**Model 4**"
   ]
  },
  {
   "cell_type": "code",
   "execution_count": 135,
   "metadata": {},
   "outputs": [
    {
     "data": {
      "text/plain": [
       "GridSearchCV(cv=3, estimator=DecisionTreeClassifier(),\n",
       "             param_grid=[{'max_depth': [10, 11, 12, 13, 14, 15, 16, 17],\n",
       "                          'max_features': [0, 1, 2, 3, 4, 5, 6, 7, 8, 9, 10, 11,\n",
       "                                           12, 13, 14, 15, 16, 17, 18, 19]}],\n",
       "             scoring='accuracy')"
      ]
     },
     "execution_count": 135,
     "metadata": {},
     "output_type": "execute_result"
    }
   ],
   "source": [
    "dtc = DecisionTreeClassifier()\n",
    "param = [{'max_depth': list(range(10, 18)), 'max_features': list(range(0,20))}]\n",
    "clf_dtc = GridSearchCV(dtc, cv = 3, param_grid = param, scoring = 'accuracy')\n",
    "clf_dtc.fit(x_train_sm, y_train_sm)"
   ]
  },
  {
   "cell_type": "code",
   "execution_count": 136,
   "metadata": {},
   "outputs": [
    {
     "data": {
      "text/plain": [
       "{'max_depth': 17, 'max_features': 19}"
      ]
     },
     "execution_count": 136,
     "metadata": {},
     "output_type": "execute_result"
    }
   ],
   "source": [
    "clf_dtc.best_params_"
   ]
  },
  {
   "cell_type": "code",
   "execution_count": 137,
   "metadata": {},
   "outputs": [
    {
     "name": "stdout",
     "output_type": "stream",
     "text": [
      "              precision    recall  f1-score   support\n",
      "\n",
      "           0       0.33      0.37      0.35       518\n",
      "           1       0.85      0.82      0.83      2181\n",
      "\n",
      "    accuracy                           0.73      2699\n",
      "   macro avg       0.59      0.60      0.59      2699\n",
      "weighted avg       0.75      0.73      0.74      2699\n",
      "\n"
     ]
    }
   ],
   "source": [
    "print(metrics.classification_report(y_test, clf_dtc.predict(x_test)))"
   ]
  },
  {
   "cell_type": "code",
   "execution_count": 138,
   "metadata": {},
   "outputs": [
    {
     "data": {
      "image/png": "[encoded data removed]",
      "text/plain": [
       "<Figure size 576x432 with 2 Axes>"
      ]
     },
     "metadata": {
      "needs_background": "light"
     },
     "output_type": "display_data"
    }
   ],
   "source": [
    "confusion_matrix(y_test, clf_dtc.predict(x_test))"
   ]
  },
  {
   "cell_type": "code",
   "execution_count": 139,
   "metadata": {},
   "outputs": [
    {
     "name": "stdout",
     "output_type": "stream",
     "text": [
      "[[ 192  326]\n",
      " [ 391 1790]] \n",
      "\n",
      "\n"
     ]
    }
   ],
   "source": [
    "print(f'{metrics.confusion_matrix(y_test,clf_dtc.predict(x_test))}','\\n\\n')"
   ]
  },
  {
   "cell_type": "markdown",
   "metadata": {},
   "source": [
    "**Predictive Analysis Conclusions**"
   ]
  },
  {
   "cell_type": "markdown",
   "metadata": {},
   "source": [
    "Here we can come with 2 type of solution where :\n",
    "    \n",
    "To predict the joiner accurately with the given data  we can Model 1 \n",
    "\n",
    "But to have a generalized & non Joiners to predict we can go with  Model 4 for given dataset\n"
   ]
  },
  {
   "cell_type": "code",
   "execution_count": null,
   "metadata": {},
   "outputs": [],
   "source": []
  }
 ],
 "metadata": {
  "kernelspec": {
   "display_name": "Python 3",
   "language": "python",
   "name": "python3"
  },
  "language_info": {
   "codemirror_mode": {
    "name": "ipython",
    "version": 3
   },
   "file_extension": ".py",
   "mimetype": "text/x-python",
   "name": "python",
   "nbconvert_exporter": "python",
   "pygments_lexer": "ipython3",
   "version": "3.8.5"
  }
 },
 "nbformat": 4,
 "nbformat_minor": 4
}
